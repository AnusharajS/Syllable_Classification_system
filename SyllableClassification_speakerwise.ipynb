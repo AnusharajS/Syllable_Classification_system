{
  "cells": [
    {
      "cell_type": "code",
      "execution_count": null,
      "metadata": {
        "colab": {
          "base_uri": "https://localhost:8080/"
        },
        "id": "XYQGUndnNV4b",
        "outputId": "f8387252-6a4e-46e6-a892-ac43d4884520"
      },
      "outputs": [
        {
          "output_type": "stream",
          "name": "stdout",
          "text": [
            "Mounted at /content/drive\n"
          ]
        }
      ],
      "source": [
        "from google.colab import drive\n",
        "drive.mount('/content/drive')"
      ]
    },
    {
      "cell_type": "code",
      "execution_count": null,
      "metadata": {
        "id": "Gk7CG1mwNe_7"
      },
      "outputs": [],
      "source": [
        "import numpy as np\n",
        "import pandas as pd\n",
        "import matplotlib.pyplot as plt\n",
        "import seaborn as sns\n",
        "from keras.models import Sequential\n",
        "from keras.layers import Dense,Dropout\n",
        "from keras.utils import np_utils\n",
        "from sklearn.model_selection import cross_val_score\n",
        "from sklearn.model_selection import KFold\n",
        "from sklearn.preprocessing import StandardScaler,LabelEncoder\n",
        "from sklearn.metrics import classification_report,confusion_matrix\n",
        "import os"
      ]
    },
    {
      "cell_type": "code",
      "execution_count": null,
      "metadata": {
        "id": "NCDc4xdNOFzT"
      },
      "outputs": [],
      "source": [
        "DF_train=pd.read_csv('/content/drive/MyDrive/Syllable_Annotated_Data/Syllable_MFCC_train(1).csv')"
      ]
    },
    {
      "cell_type": "markdown",
      "source": [
        "Data was sparse due to the unequal lengths of the audio sounds. Training using such a data was not efficient. Hence data was cleaned and used for traning."
      ],
      "metadata": {
        "id": "CgQuBiYQHJqN"
      }
    },
    {
      "cell_type": "code",
      "execution_count": null,
      "metadata": {
        "id": "OwjxnJpHOLX9"
      },
      "outputs": [],
      "source": [
        "DF_train"
      ]
    },
    {
      "cell_type": "code",
      "execution_count": null,
      "metadata": {
        "id": "yeSPbszEOOa-"
      },
      "outputs": [],
      "source": [
        "X=DF_train.drop('39',axis=1)\n",
        "Y=DF_train['39']"
      ]
    },
    {
      "cell_type": "code",
      "execution_count": null,
      "metadata": {
        "id": "BIp-YAXDOUU_"
      },
      "outputs": [],
      "source": [
        "X.head()"
      ]
    },
    {
      "cell_type": "code",
      "execution_count": null,
      "metadata": {
        "colab": {
          "base_uri": "https://localhost:8080/"
        },
        "id": "NEdawce7OVwE",
        "outputId": "8577154e-e467-4bb9-f293-7ce248488563"
      },
      "outputs": [
        {
          "data": {
            "text/plain": [
              "0          ba\n",
              "1          ba\n",
              "2          ba\n",
              "3          ba\n",
              "4          ba\n",
              "         ... \n",
              "472475    muu\n",
              "472476    muu\n",
              "472477    muu\n",
              "472478    muu\n",
              "472479    muu\n",
              "Name: 39, Length: 472480, dtype: object"
            ]
          },
          "execution_count": 7,
          "metadata": {},
          "output_type": "execute_result"
        }
      ],
      "source": [
        "Y"
      ]
    },
    {
      "cell_type": "code",
      "execution_count": null,
      "metadata": {
        "id": "tFgDU71_OWO4"
      },
      "outputs": [],
      "source": [
        "scaler = StandardScaler()\n",
        "X = scaler.fit_transform(X)\n",
        "X = pd.DataFrame(X)"
      ]
    },
    {
      "cell_type": "code",
      "execution_count": null,
      "metadata": {
        "id": "t88KE0XLOYzE"
      },
      "outputs": [],
      "source": [
        "X"
      ]
    },
    {
      "cell_type": "code",
      "execution_count": null,
      "metadata": {
        "colab": {
          "base_uri": "https://localhost:8080/"
        },
        "id": "Uuxjni4ZObkc",
        "outputId": "4a82b554-efa0-40da-fd76-f308445b4d40"
      },
      "outputs": [
        {
          "data": {
            "text/plain": [
              "array([[1, 0, 0, ..., 0, 0, 0],\n",
              "       [1, 0, 0, ..., 0, 0, 0],\n",
              "       [1, 0, 0, ..., 0, 0, 0],\n",
              "       ...,\n",
              "       [0, 0, 0, ..., 0, 0, 1],\n",
              "       [0, 0, 0, ..., 0, 0, 1],\n",
              "       [0, 0, 0, ..., 0, 0, 1]], dtype=uint8)"
            ]
          },
          "execution_count": 6,
          "metadata": {},
          "output_type": "execute_result"
        }
      ],
      "source": [
        "#One hot encoding Y\n",
        "encoder =  LabelEncoder()\n",
        "Y1 = encoder.fit_transform(Y)\n",
        "Y2 = pd.get_dummies(Y1).values\n",
        "Y2"
      ]
    },
    {
      "cell_type": "code",
      "execution_count": null,
      "metadata": {
        "id": "xD_DBEoMPxhB"
      },
      "outputs": [],
      "source": [
        "import keras\n",
        "import tensorflow as tf"
      ]
    },
    {
      "cell_type": "code",
      "execution_count": null,
      "metadata": {
        "colab": {
          "base_uri": "https://localhost:8080/"
        },
        "id": "HH2mAqQBVZht",
        "outputId": "7073ebef-4948-4a27-d84f-f0c063a5a83e"
      },
      "outputs": [
        {
          "name": "stdout",
          "output_type": "stream",
          "text": [
            "Model: \"sequential\"\n",
            "_________________________________________________________________\n",
            " Layer (type)                Output Shape              Param #   \n",
            "=================================================================\n",
            " dense (Dense)               (None, 200)               8200      \n",
            "                                                                 \n",
            " dense_1 (Dense)             (None, 2500)              502500    \n",
            "                                                                 \n",
            " dropout (Dropout)           (None, 2500)              0         \n",
            "                                                                 \n",
            " dense_2 (Dense)             (None, 2500)              6252500   \n",
            "                                                                 \n",
            " dense_3 (Dense)             (None, 40)                100040    \n",
            "                                                                 \n",
            "=================================================================\n",
            "Total params: 6,863,240\n",
            "Trainable params: 6,863,240\n",
            "Non-trainable params: 0\n",
            "_________________________________________________________________\n",
            "None\n"
          ]
        }
      ],
      "source": [
        "model = Sequential()\n",
        "model.add(Dense(200, input_dim=40, activation='relu'))\n",
        "model.add(Dense(2500,activation='relu'))\n",
        "model.add(Dropout(0.2, input_shape=(2500,)))\n",
        "model.add(Dense(2500,activation='relu'))\n",
        "model.add(Dense(40, activation='softmax'))\n",
        "model.compile(loss = 'categorical_crossentropy', optimizer = 'adam', metrics = ['accuracy'])\n",
        "print(model.summary())"
      ]
    },
    {
      "cell_type": "code",
      "execution_count": null,
      "metadata": {
        "colab": {
          "base_uri": "https://localhost:8080/"
        },
        "id": "93uqaN3pQD9H",
        "outputId": "906abae5-7cfa-456d-a61c-a171c1d6821d"
      },
      "outputs": [
        {
          "name": "stdout",
          "output_type": "stream",
          "text": [
            "Epoch 1/50\n",
            "4678/4678 [==============================] - 20s 4ms/step - loss: 0.5902 - accuracy: 0.7611 - val_loss: 1.0965 - val_accuracy: 0.3456\n",
            "Epoch 2/50\n",
            "4678/4678 [==============================] - 21s 4ms/step - loss: 0.4022 - accuracy: 0.8357 - val_loss: 0.2210 - val_accuracy: 0.9332\n",
            "Epoch 3/50\n",
            "4678/4678 [==============================] - 21s 5ms/step - loss: 0.3324 - accuracy: 0.8652 - val_loss: 0.5811 - val_accuracy: 0.7730\n",
            "Epoch 4/50\n",
            "4678/4678 [==============================] - 21s 5ms/step - loss: 0.2851 - accuracy: 0.8853 - val_loss: 0.1252 - val_accuracy: 0.9694\n",
            "Epoch 5/50\n",
            "4678/4678 [==============================] - 20s 4ms/step - loss: 0.2546 - accuracy: 0.8989 - val_loss: 0.6524 - val_accuracy: 0.7576\n",
            "Epoch 6/50\n",
            "4678/4678 [==============================] - 20s 4ms/step - loss: 0.2312 - accuracy: 0.9074 - val_loss: 0.3089 - val_accuracy: 0.8957\n",
            "Epoch 7/50\n",
            "4678/4678 [==============================] - 21s 4ms/step - loss: 0.2199 - accuracy: 0.9130 - val_loss: 0.4269 - val_accuracy: 0.8235\n",
            "Epoch 8/50\n",
            "4678/4678 [==============================] - 20s 4ms/step - loss: 0.2056 - accuracy: 0.9191 - val_loss: 0.1074 - val_accuracy: 0.9677\n",
            "Epoch 9/50\n",
            "4678/4678 [==============================] - 21s 4ms/step - loss: 0.1941 - accuracy: 0.9239 - val_loss: 0.1883 - val_accuracy: 0.9334\n",
            "Epoch 10/50\n",
            "4678/4678 [==============================] - 20s 4ms/step - loss: 0.1872 - accuracy: 0.9271 - val_loss: 0.1758 - val_accuracy: 0.9480\n",
            "Epoch 11/50\n",
            "4678/4678 [==============================] - 20s 4ms/step - loss: 0.1785 - accuracy: 0.9305 - val_loss: 0.3408 - val_accuracy: 0.8765\n",
            "Epoch 12/50\n",
            "4678/4678 [==============================] - 20s 4ms/step - loss: 0.1723 - accuracy: 0.9336 - val_loss: 0.3292 - val_accuracy: 0.8843\n",
            "Epoch 13/50\n",
            "4678/4678 [==============================] - 20s 4ms/step - loss: 0.1664 - accuracy: 0.9353 - val_loss: 0.6648 - val_accuracy: 0.7428\n",
            "Epoch 14/50\n",
            "4678/4678 [==============================] - 20s 4ms/step - loss: 0.1646 - accuracy: 0.9366 - val_loss: 0.1517 - val_accuracy: 0.9628\n",
            "Epoch 15/50\n",
            "4678/4678 [==============================] - 20s 4ms/step - loss: 0.1596 - accuracy: 0.9390 - val_loss: 0.1051 - val_accuracy: 0.9745\n",
            "Epoch 16/50\n",
            "4678/4678 [==============================] - 20s 4ms/step - loss: 0.1551 - accuracy: 0.9408 - val_loss: 1.9932 - val_accuracy: 0.3330\n",
            "Epoch 17/50\n",
            "4678/4678 [==============================] - 20s 4ms/step - loss: 0.1524 - accuracy: 0.9420 - val_loss: 0.1928 - val_accuracy: 0.9549\n",
            "Epoch 18/50\n",
            "4678/4678 [==============================] - 20s 4ms/step - loss: 0.1487 - accuracy: 0.9436 - val_loss: 0.1930 - val_accuracy: 0.9479\n",
            "Epoch 19/50\n",
            "4678/4678 [==============================] - 20s 4ms/step - loss: 0.1443 - accuracy: 0.9449 - val_loss: 0.1649 - val_accuracy: 0.9605\n",
            "Epoch 20/50\n",
            "4678/4678 [==============================] - 20s 4ms/step - loss: 0.1428 - accuracy: 0.9460 - val_loss: 0.1540 - val_accuracy: 0.9661\n",
            "Epoch 21/50\n",
            "4678/4678 [==============================] - 20s 4ms/step - loss: 0.1395 - accuracy: 0.9473 - val_loss: 0.8631 - val_accuracy: 0.7345\n",
            "Epoch 22/50\n",
            "4678/4678 [==============================] - 20s 4ms/step - loss: 0.1394 - accuracy: 0.9475 - val_loss: 0.2119 - val_accuracy: 0.9350\n",
            "Epoch 23/50\n",
            "4678/4678 [==============================] - 20s 4ms/step - loss: 0.1370 - accuracy: 0.9484 - val_loss: 0.2010 - val_accuracy: 0.9394\n",
            "Epoch 24/50\n",
            "4678/4678 [==============================] - 20s 4ms/step - loss: 0.1354 - accuracy: 0.9494 - val_loss: 0.4366 - val_accuracy: 0.8764\n",
            "Epoch 25/50\n",
            "4678/4678 [==============================] - 20s 4ms/step - loss: 0.1310 - accuracy: 0.9500 - val_loss: 0.2210 - val_accuracy: 0.9527\n",
            "Epoch 26/50\n",
            "4678/4678 [==============================] - 20s 4ms/step - loss: 0.1336 - accuracy: 0.9502 - val_loss: 0.2235 - val_accuracy: 0.9604\n",
            "Epoch 27/50\n",
            "4678/4678 [==============================] - 20s 4ms/step - loss: 0.1301 - accuracy: 0.9515 - val_loss: 0.4802 - val_accuracy: 0.8840\n",
            "Epoch 28/50\n",
            "4678/4678 [==============================] - 20s 4ms/step - loss: 0.1300 - accuracy: 0.9517 - val_loss: 0.3417 - val_accuracy: 0.9359\n",
            "Epoch 29/50\n",
            "4678/4678 [==============================] - 20s 4ms/step - loss: 0.1275 - accuracy: 0.9528 - val_loss: 0.4082 - val_accuracy: 0.9429\n",
            "Epoch 30/50\n",
            "4678/4678 [==============================] - 20s 4ms/step - loss: 0.1252 - accuracy: 0.9538 - val_loss: 0.6837 - val_accuracy: 0.8048\n",
            "Epoch 31/50\n",
            "4678/4678 [==============================] - 20s 4ms/step - loss: 0.1222 - accuracy: 0.9543 - val_loss: 0.2319 - val_accuracy: 0.9403\n",
            "Epoch 32/50\n",
            "4678/4678 [==============================] - 20s 4ms/step - loss: 0.1208 - accuracy: 0.9550 - val_loss: 0.2579 - val_accuracy: 0.9234\n",
            "Epoch 33/50\n",
            "4678/4678 [==============================] - 20s 4ms/step - loss: 0.1240 - accuracy: 0.9545 - val_loss: 0.1472 - val_accuracy: 0.9703\n",
            "Epoch 34/50\n",
            "4678/4678 [==============================] - 20s 4ms/step - loss: 0.1191 - accuracy: 0.9561 - val_loss: 0.2116 - val_accuracy: 0.9521\n",
            "Epoch 35/50\n",
            "4678/4678 [==============================] - 20s 4ms/step - loss: 0.1176 - accuracy: 0.9568 - val_loss: 0.1869 - val_accuracy: 0.9729\n",
            "Epoch 36/50\n",
            "4678/4678 [==============================] - 20s 4ms/step - loss: 0.1190 - accuracy: 0.9560 - val_loss: 0.2046 - val_accuracy: 0.9708\n",
            "Epoch 37/50\n",
            "4678/4678 [==============================] - 20s 4ms/step - loss: 0.1173 - accuracy: 0.9572 - val_loss: 0.6308 - val_accuracy: 0.9042\n",
            "Epoch 38/50\n",
            "4678/4678 [==============================] - 20s 4ms/step - loss: 0.1143 - accuracy: 0.9580 - val_loss: 1.1928 - val_accuracy: 0.6168\n",
            "Epoch 39/50\n",
            "4678/4678 [==============================] - 20s 4ms/step - loss: 0.1161 - accuracy: 0.9575 - val_loss: 0.2822 - val_accuracy: 0.9533\n",
            "Epoch 40/50\n",
            "4678/4678 [==============================] - 20s 4ms/step - loss: 0.1135 - accuracy: 0.9582 - val_loss: 0.6529 - val_accuracy: 0.8072\n",
            "Epoch 41/50\n",
            "4678/4678 [==============================] - 20s 4ms/step - loss: 0.1147 - accuracy: 0.9584 - val_loss: 0.2431 - val_accuracy: 0.9343\n",
            "Epoch 42/50\n",
            "4678/4678 [==============================] - 20s 4ms/step - loss: 0.1121 - accuracy: 0.9593 - val_loss: 0.1624 - val_accuracy: 0.9716\n",
            "Epoch 43/50\n",
            "4678/4678 [==============================] - 21s 5ms/step - loss: 0.1102 - accuracy: 0.9596 - val_loss: 0.2502 - val_accuracy: 0.9530\n",
            "Epoch 44/50\n",
            "4678/4678 [==============================] - 21s 4ms/step - loss: 0.1107 - accuracy: 0.9594 - val_loss: 0.2602 - val_accuracy: 0.9564\n",
            "Epoch 45/50\n",
            "4678/4678 [==============================] - 21s 4ms/step - loss: 0.1094 - accuracy: 0.9603 - val_loss: 0.3959 - val_accuracy: 0.9194\n",
            "Epoch 46/50\n",
            "4678/4678 [==============================] - 21s 4ms/step - loss: 0.1077 - accuracy: 0.9610 - val_loss: 0.1765 - val_accuracy: 0.9727\n",
            "Epoch 47/50\n",
            "4678/4678 [==============================] - 22s 5ms/step - loss: 0.1069 - accuracy: 0.9609 - val_loss: 0.5673 - val_accuracy: 0.8654\n",
            "Epoch 48/50\n",
            "4678/4678 [==============================] - 22s 5ms/step - loss: 0.1074 - accuracy: 0.9610 - val_loss: 0.1824 - val_accuracy: 0.9747\n",
            "Epoch 49/50\n",
            "4678/4678 [==============================] - 21s 4ms/step - loss: 0.1061 - accuracy: 0.9611 - val_loss: 1.1443 - val_accuracy: 0.7389\n",
            "Epoch 50/50\n",
            "4678/4678 [==============================] - 21s 5ms/step - loss: 0.1073 - accuracy: 0.9608 - val_loss: 0.2619 - val_accuracy: 0.9602\n"
          ]
        },
        {
          "data": {
            "text/plain": [
              "<keras.callbacks.History at 0x7fc3d6122e50>"
            ]
          },
          "execution_count": 11,
          "metadata": {},
          "output_type": "execute_result"
        }
      ],
      "source": [
        "model.fit(X, Y2, batch_size=100,validation_split=0.01, epochs=50)"
      ]
    },
    {
      "cell_type": "code",
      "execution_count": null,
      "metadata": {
        "id": "1Jb5618AQKP7"
      },
      "outputs": [],
      "source": [
        "DF_test=pd.read_csv('/content/drive/MyDrive/Syllable_Annotated_Data/Syllable_MFCC_test(1).csv')"
      ]
    },
    {
      "cell_type": "code",
      "execution_count": null,
      "metadata": {
        "id": "jn-HVrl6REgF"
      },
      "outputs": [],
      "source": [
        "X_test=DF_test.drop('39',axis=1)\n",
        "Y_test=DF_test['39']"
      ]
    },
    {
      "cell_type": "code",
      "execution_count": null,
      "metadata": {
        "id": "yMc2ZtjNRHol"
      },
      "outputs": [],
      "source": [
        "X_test"
      ]
    },
    {
      "cell_type": "code",
      "execution_count": null,
      "metadata": {
        "colab": {
          "base_uri": "https://localhost:8080/"
        },
        "id": "JdVYvmBzRI6N",
        "outputId": "11b35dd2-5cb2-4b30-951b-616070771484"
      },
      "outputs": [
        {
          "data": {
            "text/plain": [
              "0          ba\n",
              "1          ba\n",
              "2          ba\n",
              "3          ba\n",
              "4          ba\n",
              "         ... \n",
              "100219    muu\n",
              "100220    muu\n",
              "100221    muu\n",
              "100222    muu\n",
              "100223    muu\n",
              "Name: 39, Length: 100224, dtype: object"
            ]
          },
          "execution_count": 13,
          "metadata": {},
          "output_type": "execute_result"
        }
      ],
      "source": [
        "Y_test"
      ]
    },
    {
      "cell_type": "code",
      "execution_count": null,
      "metadata": {
        "id": "IezvnxcBRKca"
      },
      "outputs": [],
      "source": [
        "scaler=StandardScaler()\n",
        "X_test = scaler.fit_transform(X_test)\n",
        "X_test = pd.DataFrame(X_test)"
      ]
    },
    {
      "cell_type": "code",
      "execution_count": null,
      "metadata": {
        "colab": {
          "base_uri": "https://localhost:8080/"
        },
        "id": "WOw5RgoKRM7l",
        "outputId": "8e9551a6-c3a6-49a3-d927-dccd270a8add"
      },
      "outputs": [
        {
          "data": {
            "text/plain": [
              "array([[1, 0, 0, ..., 0, 0, 0],\n",
              "       [1, 0, 0, ..., 0, 0, 0],\n",
              "       [1, 0, 0, ..., 0, 0, 0],\n",
              "       ...,\n",
              "       [0, 0, 0, ..., 0, 0, 1],\n",
              "       [0, 0, 0, ..., 0, 0, 1],\n",
              "       [0, 0, 0, ..., 0, 0, 1]], dtype=uint8)"
            ]
          },
          "execution_count": 15,
          "metadata": {},
          "output_type": "execute_result"
        }
      ],
      "source": [
        "encoder=LabelEncoder()\n",
        "Y_test1 = encoder.fit_transform(Y_test)\n",
        "Y_test2 = pd.get_dummies(Y_test1).values\n",
        "Y_test2"
      ]
    },
    {
      "cell_type": "code",
      "execution_count": null,
      "metadata": {
        "colab": {
          "base_uri": "https://localhost:8080/"
        },
        "id": "iCqsm5AARRZm",
        "outputId": "c7c2ac77-abf9-4388-f4ba-7aed2275266d"
      },
      "outputs": [
        {
          "name": "stdout",
          "output_type": "stream",
          "text": [
            "Test loss: 63.1256217956543\n",
            "Test accuracy: 0.16141842305660248\n"
          ]
        }
      ],
      "source": [
        "loss, accuracy = model.evaluate(X_test, Y_test2, verbose=0,)\n",
        "print('Test loss:', loss)\n",
        "print('Test accuracy:', accuracy)"
      ]
    },
    {
      "cell_type": "markdown",
      "metadata": {
        "id": "nqqLhKOSdV09"
      },
      "source": [
        "-------------------------------------------------\n",
        "**TRAINING AND TESTING FOR EACH SYLLABLE SOUNDS**\n",
        "-------------------------------------------------\n",
        "\n"
      ]
    },
    {
      "cell_type": "markdown",
      "metadata": {
        "id": "IbEfPZdikdLW"
      },
      "source": [
        "MODEL:\n"
      ]
    },
    {
      "cell_type": "code",
      "execution_count": null,
      "metadata": {
        "colab": {
          "base_uri": "https://localhost:8080/"
        },
        "id": "WH9A644msfi5",
        "outputId": "a0ea9d19-afa5-40ff-f4e2-69ea8a8549e0"
      },
      "outputs": [
        {
          "output_type": "stream",
          "name": "stdout",
          "text": [
            "Model: \"sequential\"\n",
            "_________________________________________________________________\n",
            " Layer (type)                Output Shape              Param #   \n",
            "=================================================================\n",
            " dense (Dense)               (None, 1500)              60000     \n",
            "                                                                 \n",
            " dense_1 (Dense)             (None, 1500)              2251500   \n",
            "                                                                 \n",
            " dense_2 (Dense)             (None, 1500)              2251500   \n",
            "                                                                 \n",
            " dense_3 (Dense)             (None, 1500)              2251500   \n",
            "                                                                 \n",
            " dense_4 (Dense)             (None, 10)                15010     \n",
            "                                                                 \n",
            "=================================================================\n",
            "Total params: 6,829,510\n",
            "Trainable params: 6,829,510\n",
            "Non-trainable params: 0\n",
            "_________________________________________________________________\n",
            "None\n"
          ]
        }
      ],
      "source": [
        "model = Sequential()\n",
        "model.add(Dense(1500, input_dim=39, activation='relu'))\n",
        "model.add(Dense(1500,activation='relu'))\n",
        "model.add(Dense(1500,activation='relu'))\n",
        "model.add(Dense(1500,activation='relu'))\n",
        "model.add(Dense(10, activation='softmax'))\n",
        "model.compile(loss = 'categorical_crossentropy', optimizer = 'adam', metrics = ['accuracy'])\n",
        "print(model.summary())\n"
      ]
    },
    {
      "cell_type": "code",
      "execution_count": null,
      "metadata": {
        "id": "mnITUBrbFZLW"
      },
      "outputs": [],
      "source": [
        "from keras.callbacks import ModelCheckpoint"
      ]
    },
    {
      "cell_type": "code",
      "execution_count": null,
      "metadata": {
        "id": "dVC7n1ByFGj5"
      },
      "outputs": [],
      "source": [
        "checkpoint_path = \"training_1/cp.ckpt\"\n",
        "checkpoint_dir = os.path.dirname(checkpoint_path)\n",
        "\n",
        "# Create a callback that saves the model's weights\n",
        "cp_callback = ModelCheckpoint(filepath=checkpoint_path, save_weights_only=True,verbose=1)\n"
      ]
    },
    {
      "cell_type": "code",
      "execution_count": null,
      "metadata": {
        "id": "ePWZWQ23jZEg"
      },
      "outputs": [],
      "source": [
        "import pickle\n",
        "pickle.dump(model,open('/content/drive/MyDrive/Syllable_Annotated_Data/SyllableClassifier_10.pkl','wb'))"
      ]
    },
    {
      "cell_type": "markdown",
      "metadata": {
        "id": "kKjCqvmfeVyt"
      },
      "source": [
        "B SOUND"
      ]
    },
    {
      "cell_type": "code",
      "execution_count": null,
      "metadata": {
        "id": "grgET9fnRU4p"
      },
      "outputs": [],
      "source": [
        "btrain=pd.read_csv('/content/drive/MyDrive/Syllable_Annotated_Data/b_train.csv')"
      ]
    },
    {
      "cell_type": "code",
      "execution_count": null,
      "metadata": {
        "id": "DWcVSu9Yeif-"
      },
      "outputs": [],
      "source": [
        "btrain"
      ]
    },
    {
      "cell_type": "code",
      "execution_count": null,
      "metadata": {
        "id": "AnXTdZCNekMU"
      },
      "outputs": [],
      "source": [
        "btrain=btrain.drop('Unnamed: 0',axis=1)\n",
        "btrain=btrain.drop('999',axis=1)\n",
        "X=btrain.drop('39',axis=1)\n",
        "Y=btrain['39']\n",
        "\n",
        "scaler = StandardScaler()\n",
        "X = scaler.fit_transform(X)\n",
        "X = pd.DataFrame(X)\n",
        "\n",
        "encoder =  LabelEncoder()\n",
        "Y1 = encoder.fit_transform(Y)\n",
        "Y2 = pd.get_dummies(Y1).values\n",
        "\n"
      ]
    },
    {
      "cell_type": "code",
      "execution_count": null,
      "metadata": {
        "colab": {
          "base_uri": "https://localhost:8080/"
        },
        "id": "rFDhfCIdB8Kg",
        "outputId": "db8ca561-1779-4093-d130-dbbde5467f2b"
      },
      "outputs": [
        {
          "data": {
            "text/plain": [
              "array(['ba', 'ba', 'ba', ..., 'buu', 'buu', 'buu'], dtype=object)"
            ]
          },
          "execution_count": 27,
          "metadata": {},
          "output_type": "execute_result"
        }
      ],
      "source": [
        "Y1r=encoder.inverse_transform(Y1)\n",
        "Y1r"
      ]
    },
    {
      "cell_type": "code",
      "execution_count": null,
      "metadata": {
        "colab": {
          "base_uri": "https://localhost:8080/"
        },
        "id": "mA-3afjSs7Ze",
        "outputId": "21f00478-81dd-469a-e9ec-62bc98931cbd"
      },
      "outputs": [
        {
          "output_type": "stream",
          "name": "stdout",
          "text": [
            "Epoch 1/25\n",
            "100/104 [===========================>..] - ETA: 0s - loss: 0.8789 - accuracy: 0.6832\n",
            "Epoch 1: saving model to training_1/cp.ckpt\n",
            "104/104 [==============================] - 4s 17ms/step - loss: 0.8705 - accuracy: 0.6860 - val_loss: 1.0775 - val_accuracy: 0.6064\n",
            "Epoch 2/25\n",
            "100/104 [===========================>..] - ETA: 0s - loss: 0.5054 - accuracy: 0.8126\n",
            "Epoch 2: saving model to training_1/cp.ckpt\n",
            "104/104 [==============================] - 2s 16ms/step - loss: 0.5015 - accuracy: 0.8140 - val_loss: 0.5580 - val_accuracy: 0.8404\n",
            "Epoch 3/25\n",
            "100/104 [===========================>..] - ETA: 0s - loss: 0.3537 - accuracy: 0.8684\n",
            "Epoch 3: saving model to training_1/cp.ckpt\n",
            "104/104 [==============================] - 2s 15ms/step - loss: 0.3522 - accuracy: 0.8691 - val_loss: 0.7880 - val_accuracy: 0.6064\n",
            "Epoch 4/25\n",
            "103/104 [============================>.] - ETA: 0s - loss: 0.2514 - accuracy: 0.9074\n",
            "Epoch 4: saving model to training_1/cp.ckpt\n",
            "104/104 [==============================] - 2s 15ms/step - loss: 0.2513 - accuracy: 0.9074 - val_loss: 1.0335 - val_accuracy: 0.5851\n",
            "Epoch 5/25\n",
            "102/104 [============================>.] - ETA: 0s - loss: 0.1862 - accuracy: 0.9315\n",
            "Epoch 5: saving model to training_1/cp.ckpt\n",
            "104/104 [==============================] - 2s 15ms/step - loss: 0.1862 - accuracy: 0.9313 - val_loss: 0.7160 - val_accuracy: 0.7128\n",
            "Epoch 6/25\n",
            "102/104 [============================>.] - ETA: 0s - loss: 0.1279 - accuracy: 0.9534\n",
            "Epoch 6: saving model to training_1/cp.ckpt\n",
            "104/104 [==============================] - 2s 15ms/step - loss: 0.1278 - accuracy: 0.9534 - val_loss: 1.3102 - val_accuracy: 0.6383\n",
            "Epoch 7/25\n",
            "103/104 [============================>.] - ETA: 0s - loss: 0.1096 - accuracy: 0.9602\n",
            "Epoch 7: saving model to training_1/cp.ckpt\n",
            "104/104 [==============================] - 2s 15ms/step - loss: 0.1095 - accuracy: 0.9602 - val_loss: 1.2552 - val_accuracy: 0.5851\n",
            "Epoch 8/25\n",
            "104/104 [==============================] - ETA: 0s - loss: 0.0808 - accuracy: 0.9694\n",
            "Epoch 8: saving model to training_1/cp.ckpt\n",
            "104/104 [==============================] - 2s 15ms/step - loss: 0.0808 - accuracy: 0.9694 - val_loss: 1.1655 - val_accuracy: 0.6383\n",
            "Epoch 9/25\n",
            "102/104 [============================>.] - ETA: 0s - loss: 0.0705 - accuracy: 0.9730\n",
            "Epoch 9: saving model to training_1/cp.ckpt\n",
            "104/104 [==============================] - 2s 15ms/step - loss: 0.0706 - accuracy: 0.9730 - val_loss: 0.9167 - val_accuracy: 0.7021\n",
            "Epoch 10/25\n",
            "103/104 [============================>.] - ETA: 0s - loss: 0.0582 - accuracy: 0.9773\n",
            "Epoch 10: saving model to training_1/cp.ckpt\n",
            "104/104 [==============================] - 2s 15ms/step - loss: 0.0583 - accuracy: 0.9773 - val_loss: 1.4341 - val_accuracy: 0.6170\n",
            "Epoch 11/25\n",
            "102/104 [============================>.] - ETA: 0s - loss: 0.0489 - accuracy: 0.9810\n",
            "Epoch 11: saving model to training_1/cp.ckpt\n",
            "104/104 [==============================] - 2s 15ms/step - loss: 0.0498 - accuracy: 0.9808 - val_loss: 1.2853 - val_accuracy: 0.6915\n",
            "Epoch 12/25\n",
            "100/104 [===========================>..] - ETA: 0s - loss: 0.0812 - accuracy: 0.9701\n",
            "Epoch 12: saving model to training_1/cp.ckpt\n",
            "104/104 [==============================] - 2s 15ms/step - loss: 0.0803 - accuracy: 0.9704 - val_loss: 1.7975 - val_accuracy: 0.6064\n",
            "Epoch 13/25\n",
            "100/104 [===========================>..] - ETA: 0s - loss: 0.0434 - accuracy: 0.9820\n",
            "Epoch 13: saving model to training_1/cp.ckpt\n",
            "104/104 [==============================] - 2s 15ms/step - loss: 0.0433 - accuracy: 0.9821 - val_loss: 0.9304 - val_accuracy: 0.7979\n",
            "Epoch 14/25\n",
            "101/104 [============================>.] - ETA: 0s - loss: 0.0343 - accuracy: 0.9850\n",
            "Epoch 14: saving model to training_1/cp.ckpt\n",
            "104/104 [==============================] - 2s 15ms/step - loss: 0.0345 - accuracy: 0.9849 - val_loss: 1.3278 - val_accuracy: 0.7340\n",
            "Epoch 15/25\n",
            "101/104 [============================>.] - ETA: 0s - loss: 0.0439 - accuracy: 0.9822\n",
            "Epoch 15: saving model to training_1/cp.ckpt\n",
            "104/104 [==============================] - 2s 15ms/step - loss: 0.0440 - accuracy: 0.9822 - val_loss: 1.1593 - val_accuracy: 0.7021\n",
            "Epoch 16/25\n",
            "101/104 [============================>.] - ETA: 0s - loss: 0.0369 - accuracy: 0.9844\n",
            "Epoch 16: saving model to training_1/cp.ckpt\n",
            "104/104 [==============================] - 2s 15ms/step - loss: 0.0369 - accuracy: 0.9844 - val_loss: 1.7085 - val_accuracy: 0.6702\n",
            "Epoch 17/25\n",
            "102/104 [============================>.] - ETA: 0s - loss: 0.0423 - accuracy: 0.9829\n",
            "Epoch 17: saving model to training_1/cp.ckpt\n",
            "104/104 [==============================] - 2s 16ms/step - loss: 0.0423 - accuracy: 0.9829 - val_loss: 0.7487 - val_accuracy: 0.7979\n",
            "Epoch 18/25\n",
            "102/104 [============================>.] - ETA: 0s - loss: 0.0391 - accuracy: 0.9836\n",
            "Epoch 18: saving model to training_1/cp.ckpt\n",
            "104/104 [==============================] - 2s 15ms/step - loss: 0.0392 - accuracy: 0.9835 - val_loss: 1.1108 - val_accuracy: 0.7340\n",
            "Epoch 19/25\n",
            "101/104 [============================>.] - ETA: 0s - loss: 0.0301 - accuracy: 0.9862\n",
            "Epoch 19: saving model to training_1/cp.ckpt\n",
            "104/104 [==============================] - 2s 15ms/step - loss: 0.0303 - accuracy: 0.9861 - val_loss: 1.6694 - val_accuracy: 0.6383\n",
            "Epoch 20/25\n",
            "103/104 [============================>.] - ETA: 0s - loss: 0.0294 - accuracy: 0.9865\n",
            "Epoch 20: saving model to training_1/cp.ckpt\n",
            "104/104 [==============================] - 2s 15ms/step - loss: 0.0294 - accuracy: 0.9865 - val_loss: 2.4539 - val_accuracy: 0.5319\n",
            "Epoch 21/25\n",
            "102/104 [============================>.] - ETA: 0s - loss: 0.0312 - accuracy: 0.9860\n",
            "Epoch 21: saving model to training_1/cp.ckpt\n",
            "104/104 [==============================] - 2s 15ms/step - loss: 0.0312 - accuracy: 0.9860 - val_loss: 2.1931 - val_accuracy: 0.6596\n",
            "Epoch 22/25\n",
            "102/104 [============================>.] - ETA: 0s - loss: 0.0273 - accuracy: 0.9868\n",
            "Epoch 22: saving model to training_1/cp.ckpt\n",
            "104/104 [==============================] - 2s 15ms/step - loss: 0.0272 - accuracy: 0.9869 - val_loss: 2.7259 - val_accuracy: 0.6489\n",
            "Epoch 23/25\n",
            "102/104 [============================>.] - ETA: 0s - loss: 0.0257 - accuracy: 0.9871\n",
            "Epoch 23: saving model to training_1/cp.ckpt\n",
            "104/104 [==============================] - 2s 15ms/step - loss: 0.0258 - accuracy: 0.9870 - val_loss: 2.0882 - val_accuracy: 0.6489\n",
            "Epoch 24/25\n",
            "102/104 [============================>.] - ETA: 0s - loss: 0.0264 - accuracy: 0.9875\n",
            "Epoch 24: saving model to training_1/cp.ckpt\n",
            "104/104 [==============================] - 2s 15ms/step - loss: 0.0264 - accuracy: 0.9874 - val_loss: 2.4621 - val_accuracy: 0.6383\n",
            "Epoch 25/25\n",
            "102/104 [============================>.] - ETA: 0s - loss: 0.0335 - accuracy: 0.9850\n",
            "Epoch 25: saving model to training_1/cp.ckpt\n",
            "104/104 [==============================] - 2s 15ms/step - loss: 0.0336 - accuracy: 0.9849 - val_loss: 1.2979 - val_accuracy: 0.7553\n"
          ]
        },
        {
          "output_type": "execute_result",
          "data": {
            "text/plain": [
              "<keras.callbacks.History at 0x7f6db0461250>"
            ]
          },
          "metadata": {},
          "execution_count": 9
        }
      ],
      "source": [
        "model.fit(X, Y2, batch_size=900,validation_split=0.001, epochs=25,callbacks=[cp_callback])"
      ]
    },
    {
      "cell_type": "code",
      "execution_count": null,
      "metadata": {
        "id": "wVEqHPtEpFIv"
      },
      "outputs": [],
      "source": [
        "btest=pd.read_csv('/content/drive/MyDrive/Syllable_Annotated_Data/b_test.csv')\n",
        "#btest"
      ]
    },
    {
      "cell_type": "code",
      "execution_count": null,
      "metadata": {
        "id": "LLHemVP8tGrf"
      },
      "outputs": [],
      "source": [
        "btest=btest.drop('Unnamed: 0',axis=1)\n",
        "btest=btest.drop('999',axis=1)\n",
        "X_test=btest.drop('39',axis=1)\n",
        "Y_test=btest['39']\n",
        "\n",
        "\n",
        "X_test = scaler.fit_transform(X_test)\n",
        "X_test = pd.DataFrame(X_test)\n",
        "\n",
        "Y_test1 = encoder.fit_transform(Y_test)\n",
        "Y_test2 = pd.get_dummies(Y_test1).values"
      ]
    },
    {
      "cell_type": "code",
      "execution_count": null,
      "metadata": {
        "colab": {
          "base_uri": "https://localhost:8080/"
        },
        "id": "HtjSQ5VwtpuW",
        "outputId": "376fa391-2c56-4f08-c0e8-439fe0f9190b"
      },
      "outputs": [
        {
          "output_type": "stream",
          "name": "stdout",
          "text": [
            "Test loss: 3.215196371078491\n",
            "Test accuracy: 0.6347517967224121\n"
          ]
        }
      ],
      "source": [
        "model.load_weights(checkpoint_path)\n",
        "loss, accuracy = model.evaluate(X_test, Y_test2, verbose=0)\n",
        "print('Test loss:', loss)\n",
        "print('Test accuracy:', accuracy)"
      ]
    },
    {
      "cell_type": "code",
      "source": [
        "btest"
      ],
      "metadata": {
        "id": "H1NHIDT9LWpp"
      },
      "execution_count": null,
      "outputs": []
    },
    {
      "cell_type": "code",
      "execution_count": null,
      "metadata": {
        "colab": {
          "base_uri": "https://localhost:8080/"
        },
        "id": "JaSLcKAGCWGW",
        "outputId": "90c5d476-17db-4faa-ceca-cbc430cde318"
      },
      "outputs": [
        {
          "name": "stdout",
          "output_type": "stream",
          "text": [
            "705/705 [==============================] - 1s 2ms/step\n",
            "[[2085  180   26   78    6    7   37   38   36   35]\n",
            " [ 206 1901   17   82    7   10   21   35   13   12]\n",
            " [  52   32 1157   35   44   90   10   12   12   28]\n",
            " [  52   41   43 2020   10   52   70  117   89   98]\n",
            " [  33   27  137   42  412 1776    8   28   43   22]\n",
            " [  12   18   76   26  109 2135   11   37   33   71]\n",
            " [  58   55   21   95   15   19 2000  205  134  118]\n",
            " [  13   26   10   92    3   18  900  812   91  179]\n",
            " [  20   12   33   54   15   40   54   42  718 1156]\n",
            " [  28   29    9   69    9   34   33  118  232 1039]]\n"
          ]
        }
      ],
      "source": [
        "#this is for 100 batch size\n",
        "pred=model.predict(X_test)\n",
        "pred=np.argmax(pred, axis=1)\n",
        "Y_test2=np.argmax(Y_test2, axis=1)\n",
        "cm = confusion_matrix(Y_test2, pred)\n",
        "print(cm)"
      ]
    },
    {
      "cell_type": "code",
      "execution_count": null,
      "metadata": {
        "id": "J5zWGnLNcqAn"
      },
      "outputs": [],
      "source": [
        "label=['ba','baa','bai','bau','bi','bii','bo','boo','bu','buu']"
      ]
    },
    {
      "cell_type": "code",
      "execution_count": null,
      "metadata": {
        "colab": {
          "base_uri": "https://localhost:8080/",
          "height": 718
        },
        "id": "cCdWvLL1_4eR",
        "outputId": "bc33d50d-fce1-4f6b-a3bf-da53f7a6f0da"
      },
      "outputs": [
        {
          "data": {
            "text/plain": [
              "<matplotlib.axes._subplots.AxesSubplot at 0x7fc92d024810>"
            ]
          },
          "execution_count": 20,
          "metadata": {},
          "output_type": "execute_result"
        },
        {
          "data": {
            "image/png": "[encoded data removed]",
            "text/plain": [
              "<Figure size 864x864 with 2 Axes>"
            ]
          },
          "metadata": {},
          "output_type": "display_data"
        }
      ],
      "source": [
        "import seaborn as sns\n",
        "import matplotlib.pyplot as plt\n",
        "fig, ax = plt.subplots(figsize=(12,12))         \n",
        "sns.heatmap(cm, annot=True, linewidths=3, ax=ax, xticklabels=label,yticklabels=label)\n"
      ]
    },
    {
      "cell_type": "markdown",
      "metadata": {
        "id": "TzT2rGL6prfi"
      },
      "source": [
        "G SOUND"
      ]
    },
    {
      "cell_type": "code",
      "execution_count": null,
      "metadata": {
        "id": "EqMTHqwatwjD"
      },
      "outputs": [],
      "source": [
        "gtrain=pd.read_csv('/content/drive/MyDrive/Syllable_Annotated_Data/g_train.csv')\n",
        "gtest=pd.read_csv('/content/drive/MyDrive/Syllable_Annotated_Data/g_test.csv')"
      ]
    },
    {
      "cell_type": "code",
      "execution_count": null,
      "metadata": {
        "id": "Dpok6QKNqIR0"
      },
      "outputs": [],
      "source": [
        "gtrain=gtrain.drop('Unnamed: 0',axis=1)\n",
        "gtrain=gtrain.drop('999',axis=1)\n",
        "X_g=gtrain.drop('39',axis=1)\n",
        "Y_g=gtrain['39']\n",
        "\n",
        "scaler = StandardScaler()\n",
        "X_g = scaler.fit_transform(X_g)\n",
        "X_g = pd.DataFrame(X_g)\n",
        "\n",
        "encoder =  LabelEncoder()\n",
        "Y1_g = encoder.fit_transform(Y_g)\n",
        "Y2_g = pd.get_dummies(Y1_g).values"
      ]
    },
    {
      "cell_type": "code",
      "execution_count": null,
      "metadata": {
        "colab": {
          "base_uri": "https://localhost:8080/"
        },
        "id": "MxfyjpzDqdf6",
        "outputId": "344c4c96-06c1-494c-bcc8-b9b81cda1343"
      },
      "outputs": [
        {
          "name": "stdout",
          "output_type": "stream",
          "text": [
            "Epoch 1/25\n",
            "105/107 [============================>.] - ETA: 0s - loss: 0.7971 - accuracy: 0.7284\n",
            "Epoch 1: saving model to training_1/cp.ckpt\n",
            "107/107 [==============================] - 2s 16ms/step - loss: 0.7942 - accuracy: 0.7293 - val_loss: 0.8153 - val_accuracy: 0.6771\n",
            "Epoch 2/25\n",
            "107/107 [==============================] - ETA: 0s - loss: 0.4244 - accuracy: 0.8424\n",
            "Epoch 2: saving model to training_1/cp.ckpt\n",
            "107/107 [==============================] - 2s 16ms/step - loss: 0.4244 - accuracy: 0.8424 - val_loss: 1.1477 - val_accuracy: 0.7292\n",
            "Epoch 3/25\n",
            "106/107 [============================>.] - ETA: 0s - loss: 0.2671 - accuracy: 0.9021\n",
            "Epoch 3: saving model to training_1/cp.ckpt\n",
            "107/107 [==============================] - 2s 15ms/step - loss: 0.2671 - accuracy: 0.9021 - val_loss: 1.1549 - val_accuracy: 0.7812\n",
            "Epoch 4/25\n",
            "106/107 [============================>.] - ETA: 0s - loss: 0.1828 - accuracy: 0.9350\n",
            "Epoch 4: saving model to training_1/cp.ckpt\n",
            "107/107 [==============================] - 2s 15ms/step - loss: 0.1828 - accuracy: 0.9350 - val_loss: 1.1914 - val_accuracy: 0.7500\n",
            "Epoch 5/25\n",
            "106/107 [============================>.] - ETA: 0s - loss: 0.1167 - accuracy: 0.9590\n",
            "Epoch 5: saving model to training_1/cp.ckpt\n",
            "107/107 [==============================] - 2s 15ms/step - loss: 0.1166 - accuracy: 0.9590 - val_loss: 1.1865 - val_accuracy: 0.8229\n",
            "Epoch 6/25\n",
            "106/107 [============================>.] - ETA: 0s - loss: 0.0854 - accuracy: 0.9700\n",
            "Epoch 6: saving model to training_1/cp.ckpt\n",
            "107/107 [==============================] - 2s 15ms/step - loss: 0.0854 - accuracy: 0.9700 - val_loss: 0.8864 - val_accuracy: 0.8333\n",
            "Epoch 7/25\n",
            "106/107 [============================>.] - ETA: 0s - loss: 0.0700 - accuracy: 0.9753\n",
            "Epoch 7: saving model to training_1/cp.ckpt\n",
            "107/107 [==============================] - 2s 15ms/step - loss: 0.0700 - accuracy: 0.9753 - val_loss: 1.5911 - val_accuracy: 0.7708\n",
            "Epoch 8/25\n",
            "105/107 [============================>.] - ETA: 0s - loss: 0.0620 - accuracy: 0.9779\n",
            "Epoch 8: saving model to training_1/cp.ckpt\n",
            "107/107 [==============================] - 2s 16ms/step - loss: 0.0623 - accuracy: 0.9778 - val_loss: 0.9701 - val_accuracy: 0.8750\n",
            "Epoch 9/25\n",
            "106/107 [============================>.] - ETA: 0s - loss: 0.0541 - accuracy: 0.9810\n",
            "Epoch 9: saving model to training_1/cp.ckpt\n",
            "107/107 [==============================] - 2s 17ms/step - loss: 0.0541 - accuracy: 0.9810 - val_loss: 1.1573 - val_accuracy: 0.8021\n",
            "Epoch 10/25\n",
            "106/107 [============================>.] - ETA: 0s - loss: 0.0468 - accuracy: 0.9834\n",
            "Epoch 10: saving model to training_1/cp.ckpt\n",
            "107/107 [==============================] - 2s 16ms/step - loss: 0.0468 - accuracy: 0.9834 - val_loss: 1.2877 - val_accuracy: 0.7917\n",
            "Epoch 11/25\n",
            "106/107 [============================>.] - ETA: 0s - loss: 0.0347 - accuracy: 0.9870\n",
            "Epoch 11: saving model to training_1/cp.ckpt\n",
            "107/107 [==============================] - 2s 16ms/step - loss: 0.0347 - accuracy: 0.9870 - val_loss: 1.2450 - val_accuracy: 0.8333\n",
            "Epoch 12/25\n",
            "105/107 [============================>.] - ETA: 0s - loss: 0.0286 - accuracy: 0.9888\n",
            "Epoch 12: saving model to training_1/cp.ckpt\n",
            "107/107 [==============================] - 2s 16ms/step - loss: 0.0286 - accuracy: 0.9888 - val_loss: 1.0725 - val_accuracy: 0.8542\n",
            "Epoch 13/25\n",
            "106/107 [============================>.] - ETA: 0s - loss: 0.0275 - accuracy: 0.9891\n",
            "Epoch 13: saving model to training_1/cp.ckpt\n",
            "107/107 [==============================] - 2s 16ms/step - loss: 0.0275 - accuracy: 0.9891 - val_loss: 1.4028 - val_accuracy: 0.8438\n",
            "Epoch 14/25\n",
            "106/107 [============================>.] - ETA: 0s - loss: 0.0359 - accuracy: 0.9865\n",
            "Epoch 14: saving model to training_1/cp.ckpt\n",
            "107/107 [==============================] - 2s 16ms/step - loss: 0.0358 - accuracy: 0.9865 - val_loss: 1.0983 - val_accuracy: 0.8646\n",
            "Epoch 15/25\n",
            "106/107 [============================>.] - ETA: 0s - loss: 0.0502 - accuracy: 0.9821\n",
            "Epoch 15: saving model to training_1/cp.ckpt\n",
            "107/107 [==============================] - 2s 15ms/step - loss: 0.0502 - accuracy: 0.9821 - val_loss: 1.8811 - val_accuracy: 0.8438\n",
            "Epoch 16/25\n",
            "106/107 [============================>.] - ETA: 0s - loss: 0.0384 - accuracy: 0.9853\n",
            "Epoch 16: saving model to training_1/cp.ckpt\n",
            "107/107 [==============================] - 2s 16ms/step - loss: 0.0384 - accuracy: 0.9853 - val_loss: 2.4406 - val_accuracy: 0.7604\n",
            "Epoch 17/25\n",
            "106/107 [============================>.] - ETA: 0s - loss: 0.0375 - accuracy: 0.9856\n",
            "Epoch 17: saving model to training_1/cp.ckpt\n",
            "107/107 [==============================] - 2s 16ms/step - loss: 0.0375 - accuracy: 0.9856 - val_loss: 2.0404 - val_accuracy: 0.8229\n",
            "Epoch 18/25\n",
            "105/107 [============================>.] - ETA: 0s - loss: 0.0464 - accuracy: 0.9830\n",
            "Epoch 18: saving model to training_1/cp.ckpt\n",
            "107/107 [==============================] - 2s 16ms/step - loss: 0.0461 - accuracy: 0.9830 - val_loss: 1.8153 - val_accuracy: 0.8125\n",
            "Epoch 19/25\n",
            "106/107 [============================>.] - ETA: 0s - loss: 0.0387 - accuracy: 0.9855\n",
            "Epoch 19: saving model to training_1/cp.ckpt\n",
            "107/107 [==============================] - 2s 16ms/step - loss: 0.0387 - accuracy: 0.9855 - val_loss: 1.8622 - val_accuracy: 0.7708\n",
            "Epoch 20/25\n",
            "106/107 [============================>.] - ETA: 0s - loss: 0.0343 - accuracy: 0.9867\n",
            "Epoch 20: saving model to training_1/cp.ckpt\n",
            "107/107 [==============================] - 2s 15ms/step - loss: 0.0343 - accuracy: 0.9867 - val_loss: 1.9520 - val_accuracy: 0.8229\n",
            "Epoch 21/25\n",
            "105/107 [============================>.] - ETA: 0s - loss: 0.0287 - accuracy: 0.9882\n",
            "Epoch 21: saving model to training_1/cp.ckpt\n",
            "107/107 [==============================] - 2s 17ms/step - loss: 0.0288 - accuracy: 0.9882 - val_loss: 1.3825 - val_accuracy: 0.8438\n",
            "Epoch 22/25\n",
            "105/107 [============================>.] - ETA: 0s - loss: 0.0323 - accuracy: 0.9874\n",
            "Epoch 22: saving model to training_1/cp.ckpt\n",
            "107/107 [==============================] - 2s 16ms/step - loss: 0.0323 - accuracy: 0.9874 - val_loss: 1.7547 - val_accuracy: 0.7917\n",
            "Epoch 23/25\n",
            "106/107 [============================>.] - ETA: 0s - loss: 0.0460 - accuracy: 0.9829\n",
            "Epoch 23: saving model to training_1/cp.ckpt\n",
            "107/107 [==============================] - 2s 15ms/step - loss: 0.0460 - accuracy: 0.9829 - val_loss: 2.3683 - val_accuracy: 0.7396\n",
            "Epoch 24/25\n",
            "105/107 [============================>.] - ETA: 0s - loss: 0.0402 - accuracy: 0.9845\n",
            "Epoch 24: saving model to training_1/cp.ckpt\n",
            "107/107 [==============================] - 2s 17ms/step - loss: 0.0402 - accuracy: 0.9846 - val_loss: 1.5729 - val_accuracy: 0.8229\n",
            "Epoch 25/25\n",
            "106/107 [============================>.] - ETA: 0s - loss: 0.0308 - accuracy: 0.9877\n",
            "Epoch 25: saving model to training_1/cp.ckpt\n",
            "107/107 [==============================] - 2s 16ms/step - loss: 0.0308 - accuracy: 0.9877 - val_loss: 1.7923 - val_accuracy: 0.7708\n"
          ]
        },
        {
          "data": {
            "text/plain": [
              "<keras.callbacks.History at 0x7febbc140c90>"
            ]
          },
          "execution_count": 32,
          "metadata": {},
          "output_type": "execute_result"
        }
      ],
      "source": [
        "model.fit(X_g, Y2_g, batch_size=900,validation_split=0.001, epochs=25,callbacks=[cp_callback])"
      ]
    },
    {
      "cell_type": "code",
      "execution_count": null,
      "metadata": {
        "id": "N7O7QP1lqtz8"
      },
      "outputs": [],
      "source": [
        "gtest=gtest.drop('Unnamed: 0',axis=1)\n",
        "gtest=gtest.drop('999',axis=1)\n",
        "X_test_g=gtest.drop('39',axis=1)\n",
        "Y_test_g=gtest['39']\n",
        "\n",
        "\n",
        "X_test_g = scaler.fit_transform(X_test_g)\n",
        "X_test_g = pd.DataFrame(X_test_g)\n",
        "\n",
        "Y_test1_g = encoder.fit_transform(Y_test_g)\n",
        "Y_test2_g = pd.get_dummies(Y_test1_g).values"
      ]
    },
    {
      "cell_type": "code",
      "execution_count": null,
      "metadata": {
        "colab": {
          "base_uri": "https://localhost:8080/"
        },
        "id": "uxg37Oudq7Rk",
        "outputId": "55c4b3e0-0950-462b-c77c-65b5c1404649"
      },
      "outputs": [
        {
          "name": "stdout",
          "output_type": "stream",
          "text": [
            "Test loss: 2.215620279312134\n",
            "Test accuracy: 0.769379198551178\n"
          ]
        }
      ],
      "source": [
        "model.load_weights(checkpoint_path)\n",
        "loss, accuracy = model.evaluate(X_test_g, Y_test2_g, verbose=0)\n",
        "print('Test loss:', loss)\n",
        "print('Test accuracy:', accuracy)"
      ]
    },
    {
      "cell_type": "code",
      "execution_count": null,
      "metadata": {
        "colab": {
          "base_uri": "https://localhost:8080/"
        },
        "id": "n1XbVA5RdSk2",
        "outputId": "c6ebc84f-c7d3-4d05-c118-dc8f536e3402"
      },
      "outputs": [
        {
          "name": "stdout",
          "output_type": "stream",
          "text": [
            "745/745 [==============================] - 1s 2ms/step\n",
            "[[2173  192   32   85   20   41   64   45   44   56]\n",
            " [ 231 1650   13   59    5    9   16   39   25   33]\n",
            " [  80   85 2096   38   81   94   32   22   16   16]\n",
            " [  81  140   74 1890   16    9   78  133   53   54]\n",
            " [  13   27  103    4  951 1183   15   37   30   37]\n",
            " [   4   25   73    9  203 1797   11   41   51   90]\n",
            " [  40   68   23   69   36   46 2029  363   82   28]\n",
            " [  29   35   17   77    4   19  160 1370   65   80]\n",
            " [  28   51   21   52   32   34  102  119 1878  147]\n",
            " [  33   37   15   82   29   34   78  337  142 1325]]\n"
          ]
        }
      ],
      "source": [
        "#this is for 100 batch size\n",
        "pred=model.predict(X_test_g)\n",
        "pred=np.argmax(pred, axis=1)\n",
        "Y_test2_g=np.argmax(Y_test2_g, axis=1)\n",
        "cm_g = confusion_matrix(Y_test2_g, pred)\n",
        "print(cm_g)"
      ]
    },
    {
      "cell_type": "code",
      "execution_count": null,
      "metadata": {
        "id": "PWCftsPreI1M"
      },
      "outputs": [],
      "source": [
        "label_g=['ga','gaa','gai','gau','gi','gii','go','goo','gu','guu']"
      ]
    },
    {
      "cell_type": "code",
      "execution_count": null,
      "metadata": {
        "colab": {
          "base_uri": "https://localhost:8080/",
          "height": 718
        },
        "id": "McUtoCQ-dSar",
        "outputId": "7ec61257-b774-470a-8972-bccc058771b1"
      },
      "outputs": [
        {
          "data": {
            "text/plain": [
              "<matplotlib.axes._subplots.AxesSubplot at 0x7fc8b0700e90>"
            ]
          },
          "execution_count": 29,
          "metadata": {},
          "output_type": "execute_result"
        },
        {
          "data": {
            "image/png": "[encoded data removed]",
            "text/plain": [
              "<Figure size 864x864 with 2 Axes>"
            ]
          },
          "metadata": {},
          "output_type": "display_data"
        }
      ],
      "source": [
        "fig, ax = plt.subplots(figsize=(12,12))         # Sample figsize in inches\n",
        "sns.heatmap(cm_g, annot=True, linewidths=3, ax=ax, xticklabels=label_g,yticklabels=label_g)"
      ]
    },
    {
      "cell_type": "markdown",
      "metadata": {
        "id": "RX_HA2TrGQa8"
      },
      "source": [
        "D SOUND"
      ]
    },
    {
      "cell_type": "code",
      "execution_count": null,
      "metadata": {
        "id": "Z1RhJ5TyFjx4"
      },
      "outputs": [],
      "source": [
        "dtrain=pd.read_csv('/content/drive/MyDrive/Syllable_Annotated_Data/d_train.csv')\n",
        "dtest=pd.read_csv('/content/drive/MyDrive/Syllable_Annotated_Data/d_test.csv')"
      ]
    },
    {
      "cell_type": "code",
      "execution_count": null,
      "metadata": {
        "id": "Y4CiLkg9GvVD"
      },
      "outputs": [],
      "source": [
        "dtrain=dtrain.drop('Unnamed: 0',axis=1)\n",
        "dtrain=dtrain.drop('999',axis=1)\n",
        "X_d=dtrain.drop('39',axis=1)\n",
        "Y_d=dtrain['39']\n",
        "\n",
        "X_d = scaler.fit_transform(X_d)\n",
        "X_d = pd.DataFrame(X_d)\n",
        "\n",
        "Y1_d = encoder.fit_transform(Y_d)\n",
        "Y2_d = pd.get_dummies(Y1_d).values"
      ]
    },
    {
      "cell_type": "code",
      "execution_count": null,
      "metadata": {
        "colab": {
          "base_uri": "https://localhost:8080/"
        },
        "id": "1Xs4U1t2HBlS",
        "outputId": "77205fe4-7d38-49ef-b883-de872eff8ad2"
      },
      "outputs": [
        {
          "name": "stdout",
          "output_type": "stream",
          "text": [
            "Epoch 1/25\n",
            "113/115 [============================>.] - ETA: 0s - loss: 0.7039 - accuracy: 0.7533\n",
            "Epoch 1: saving model to training_1/cp.ckpt\n",
            "115/115 [==============================] - 3s 23ms/step - loss: 0.7016 - accuracy: 0.7540 - val_loss: 0.8783 - val_accuracy: 0.6214\n",
            "Epoch 2/25\n",
            "114/115 [============================>.] - ETA: 0s - loss: 0.3407 - accuracy: 0.8711\n",
            "Epoch 2: saving model to training_1/cp.ckpt\n",
            "115/115 [==============================] - 2s 17ms/step - loss: 0.3407 - accuracy: 0.8711 - val_loss: 0.4639 - val_accuracy: 0.8447\n",
            "Epoch 3/25\n",
            "111/115 [===========================>..] - ETA: 0s - loss: 0.1998 - accuracy: 0.9250\n",
            "Epoch 3: saving model to training_1/cp.ckpt\n",
            "115/115 [==============================] - 2s 15ms/step - loss: 0.1992 - accuracy: 0.9251 - val_loss: 0.4343 - val_accuracy: 0.8447\n",
            "Epoch 4/25\n",
            "114/115 [============================>.] - ETA: 0s - loss: 0.1284 - accuracy: 0.9513\n",
            "Epoch 4: saving model to training_1/cp.ckpt\n",
            "115/115 [==============================] - 2s 15ms/step - loss: 0.1284 - accuracy: 0.9513 - val_loss: 0.4494 - val_accuracy: 0.8641\n",
            "Epoch 5/25\n",
            "114/115 [============================>.] - ETA: 0s - loss: 0.0938 - accuracy: 0.9634\n",
            "Epoch 5: saving model to training_1/cp.ckpt\n",
            "115/115 [==============================] - 2s 15ms/step - loss: 0.0938 - accuracy: 0.9634 - val_loss: 1.0314 - val_accuracy: 0.6990\n",
            "Epoch 6/25\n",
            "114/115 [============================>.] - ETA: 0s - loss: 0.0801 - accuracy: 0.9682\n",
            "Epoch 6: saving model to training_1/cp.ckpt\n",
            "115/115 [==============================] - 2s 17ms/step - loss: 0.0801 - accuracy: 0.9682 - val_loss: 0.8719 - val_accuracy: 0.7670\n",
            "Epoch 7/25\n",
            "113/115 [============================>.] - ETA: 0s - loss: 0.0694 - accuracy: 0.9713\n",
            "Epoch 7: saving model to training_1/cp.ckpt\n",
            "115/115 [==============================] - 2s 15ms/step - loss: 0.0693 - accuracy: 0.9714 - val_loss: 1.0556 - val_accuracy: 0.7670\n",
            "Epoch 8/25\n",
            "114/115 [============================>.] - ETA: 0s - loss: 0.0629 - accuracy: 0.9736\n",
            "Epoch 8: saving model to training_1/cp.ckpt\n",
            "115/115 [==============================] - 2s 15ms/step - loss: 0.0629 - accuracy: 0.9736 - val_loss: 0.7935 - val_accuracy: 0.7864\n",
            "Epoch 9/25\n",
            "114/115 [============================>.] - ETA: 0s - loss: 0.0633 - accuracy: 0.9736\n",
            "Epoch 9: saving model to training_1/cp.ckpt\n",
            "115/115 [==============================] - 2s 15ms/step - loss: 0.0634 - accuracy: 0.9735 - val_loss: 0.8538 - val_accuracy: 0.8155\n",
            "Epoch 10/25\n",
            "114/115 [============================>.] - ETA: 0s - loss: 0.0632 - accuracy: 0.9735\n",
            "Epoch 10: saving model to training_1/cp.ckpt\n",
            "115/115 [==============================] - 2s 16ms/step - loss: 0.0632 - accuracy: 0.9735 - val_loss: 0.4027 - val_accuracy: 0.8738\n",
            "Epoch 11/25\n",
            "114/115 [============================>.] - ETA: 0s - loss: 0.0647 - accuracy: 0.9727\n",
            "Epoch 11: saving model to training_1/cp.ckpt\n",
            "115/115 [==============================] - 2s 15ms/step - loss: 0.0647 - accuracy: 0.9728 - val_loss: 0.8115 - val_accuracy: 0.7961\n",
            "Epoch 12/25\n",
            "113/115 [============================>.] - ETA: 0s - loss: 0.0638 - accuracy: 0.9731\n",
            "Epoch 12: saving model to training_1/cp.ckpt\n",
            "115/115 [==============================] - 2s 15ms/step - loss: 0.0637 - accuracy: 0.9732 - val_loss: 1.0555 - val_accuracy: 0.8155\n",
            "Epoch 13/25\n",
            "114/115 [============================>.] - ETA: 0s - loss: 0.0653 - accuracy: 0.9725\n",
            "Epoch 13: saving model to training_1/cp.ckpt\n",
            "115/115 [==============================] - 2s 16ms/step - loss: 0.0653 - accuracy: 0.9725 - val_loss: 0.9875 - val_accuracy: 0.7767\n",
            "Epoch 14/25\n",
            "114/115 [============================>.] - ETA: 0s - loss: 0.0582 - accuracy: 0.9752\n",
            "Epoch 14: saving model to training_1/cp.ckpt\n",
            "115/115 [==============================] - 2s 15ms/step - loss: 0.0582 - accuracy: 0.9751 - val_loss: 1.1648 - val_accuracy: 0.7670\n",
            "Epoch 15/25\n",
            "114/115 [============================>.] - ETA: 0s - loss: 0.0692 - accuracy: 0.9715\n",
            "Epoch 15: saving model to training_1/cp.ckpt\n",
            "115/115 [==============================] - 2s 16ms/step - loss: 0.0692 - accuracy: 0.9715 - val_loss: 1.2421 - val_accuracy: 0.7864\n",
            "Epoch 16/25\n",
            "114/115 [============================>.] - ETA: 0s - loss: 0.0642 - accuracy: 0.9727\n",
            "Epoch 16: saving model to training_1/cp.ckpt\n",
            "115/115 [==============================] - 2s 16ms/step - loss: 0.0642 - accuracy: 0.9727 - val_loss: 1.1191 - val_accuracy: 0.7670\n",
            "Epoch 17/25\n",
            "114/115 [============================>.] - ETA: 0s - loss: 0.0579 - accuracy: 0.9751\n",
            "Epoch 17: saving model to training_1/cp.ckpt\n",
            "115/115 [==============================] - 2s 16ms/step - loss: 0.0580 - accuracy: 0.9751 - val_loss: 0.8851 - val_accuracy: 0.7670\n",
            "Epoch 18/25\n",
            "113/115 [============================>.] - ETA: 0s - loss: 0.0559 - accuracy: 0.9754\n",
            "Epoch 18: saving model to training_1/cp.ckpt\n",
            "115/115 [==============================] - 2s 15ms/step - loss: 0.0558 - accuracy: 0.9754 - val_loss: 0.8377 - val_accuracy: 0.7961\n",
            "Epoch 19/25\n",
            "114/115 [============================>.] - ETA: 0s - loss: 0.0554 - accuracy: 0.9757\n",
            "Epoch 19: saving model to training_1/cp.ckpt\n",
            "115/115 [==============================] - 2s 16ms/step - loss: 0.0553 - accuracy: 0.9758 - val_loss: 1.2759 - val_accuracy: 0.7670\n",
            "Epoch 20/25\n",
            "114/115 [============================>.] - ETA: 0s - loss: 0.0530 - accuracy: 0.9769\n",
            "Epoch 20: saving model to training_1/cp.ckpt\n",
            "115/115 [==============================] - 2s 16ms/step - loss: 0.0530 - accuracy: 0.9769 - val_loss: 1.0596 - val_accuracy: 0.7864\n",
            "Epoch 21/25\n",
            "114/115 [============================>.] - ETA: 0s - loss: 0.0562 - accuracy: 0.9757\n",
            "Epoch 21: saving model to training_1/cp.ckpt\n",
            "115/115 [==============================] - 2s 16ms/step - loss: 0.0562 - accuracy: 0.9757 - val_loss: 1.2532 - val_accuracy: 0.7282\n",
            "Epoch 22/25\n",
            "114/115 [============================>.] - ETA: 0s - loss: 0.0692 - accuracy: 0.9714\n",
            "Epoch 22: saving model to training_1/cp.ckpt\n",
            "115/115 [==============================] - 2s 15ms/step - loss: 0.0692 - accuracy: 0.9714 - val_loss: 1.2432 - val_accuracy: 0.7476\n",
            "Epoch 23/25\n",
            "113/115 [============================>.] - ETA: 0s - loss: 0.0595 - accuracy: 0.9744\n",
            "Epoch 23: saving model to training_1/cp.ckpt\n",
            "115/115 [==============================] - 2s 15ms/step - loss: 0.0597 - accuracy: 0.9744 - val_loss: 0.8006 - val_accuracy: 0.8544\n",
            "Epoch 24/25\n",
            "114/115 [============================>.] - ETA: 0s - loss: 0.0611 - accuracy: 0.9738\n",
            "Epoch 24: saving model to training_1/cp.ckpt\n",
            "115/115 [==============================] - 2s 15ms/step - loss: 0.0610 - accuracy: 0.9738 - val_loss: 1.0881 - val_accuracy: 0.7767\n",
            "Epoch 25/25\n",
            "114/115 [============================>.] - ETA: 0s - loss: 0.0569 - accuracy: 0.9749\n",
            "Epoch 25: saving model to training_1/cp.ckpt\n",
            "115/115 [==============================] - 2s 15ms/step - loss: 0.0569 - accuracy: 0.9749 - val_loss: 1.2005 - val_accuracy: 0.7573\n"
          ]
        },
        {
          "data": {
            "text/plain": [
              "<keras.callbacks.History at 0x7feba45fbdd0>"
            ]
          },
          "execution_count": 37,
          "metadata": {},
          "output_type": "execute_result"
        }
      ],
      "source": [
        "model.fit(X_d, Y2_d, batch_size=900,validation_split=0.001,callbacks=[cp_callback], epochs=25)"
      ]
    },
    {
      "cell_type": "code",
      "execution_count": null,
      "metadata": {
        "id": "_iJvzG2uHGW0"
      },
      "outputs": [],
      "source": [
        "dtest=dtest.drop('Unnamed: 0',axis=1)\n",
        "dtest=dtest.drop('999',axis=1)\n",
        "X_test_d=dtest.drop('39',axis=1)\n",
        "Y_test_d=dtest['39']\n",
        "\n",
        "\n",
        "X_test_d = scaler.fit_transform(X_test_d)\n",
        "X_test_d = pd.DataFrame(X_test_d)\n",
        "\n",
        "Y_test1_d = encoder.fit_transform(Y_test_d)\n",
        "Y_test2_d = pd.get_dummies(Y_test1_d).values"
      ]
    },
    {
      "cell_type": "code",
      "execution_count": null,
      "metadata": {
        "colab": {
          "base_uri": "https://localhost:8080/"
        },
        "id": "8mkB2G35HXod",
        "outputId": "94d7077d-43a9-4198-fd73-e53b0a5a7ef1"
      },
      "outputs": [
        {
          "name": "stdout",
          "output_type": "stream",
          "text": [
            "Test loss: 2.7863211631774902\n",
            "Test accuracy: 0.688258945941925\n"
          ]
        }
      ],
      "source": [
        "loss, accuracy = model.evaluate(X_test_d, Y_test2_d, verbose=0)\n",
        "print('Test loss:', loss)\n",
        "print('Test accuracy:', accuracy)"
      ]
    },
    {
      "cell_type": "code",
      "execution_count": null,
      "metadata": {
        "colab": {
          "base_uri": "https://localhost:8080/"
        },
        "id": "YZPXT1F7fsxg",
        "outputId": "c4410b62-d8e8-4610-b868-90294b1ea83f"
      },
      "outputs": [
        {
          "name": "stdout",
          "output_type": "stream",
          "text": [
            "700/700 [==============================] - 1s 2ms/step\n",
            "[[2120  265   27  107   26   44   53   13   41   24]\n",
            " [ 241 1578   13   83   17    6   42  152   18   26]\n",
            " [  61   76 2017   57  139  107   48   50   36   33]\n",
            " [  93   96   11 1717   32   75  148   93   44   59]\n",
            " [  15   13  153   18 1880  179    8   47   39   48]\n",
            " [   0   10   38    2  207 1788    9   37   60   57]\n",
            " [  19   26    5   60   14    2  393 1003   30   48]\n",
            " [  16   18    6   34    3    5   73  877   12   44]\n",
            " [  20   15   37   70   22   61   52  129 1871  475]\n",
            " [  20   17    6   99   12   39   39  220  214 1798]]\n"
          ]
        }
      ],
      "source": [
        "#this is for 100 batch size\n",
        "pred=model.predict(X_test_d)\n",
        "pred=np.argmax(pred, axis=1)\n",
        "Y_test2_d=np.argmax(Y_test2_d, axis=1)\n",
        "cm_d = confusion_matrix(Y_test2_d, pred)\n",
        "print(cm_d)"
      ]
    },
    {
      "cell_type": "code",
      "execution_count": null,
      "metadata": {
        "id": "fYQUeUbufsuD"
      },
      "outputs": [],
      "source": [
        "label_d=['da','daa','dai','dau','di','dii','do','doo','du','duu']"
      ]
    },
    {
      "cell_type": "code",
      "execution_count": null,
      "metadata": {
        "colab": {
          "base_uri": "https://localhost:8080/",
          "height": 718
        },
        "id": "H-4_CZ9wfssG",
        "outputId": "113e9a10-926b-4fdf-bd52-c6427d936b7c"
      },
      "outputs": [
        {
          "data": {
            "text/plain": [
              "<matplotlib.axes._subplots.AxesSubplot at 0x7fc8b01ca7d0>"
            ]
          },
          "execution_count": 40,
          "metadata": {},
          "output_type": "execute_result"
        },
        {
          "data": {
            "image/png": "[encoded data removed]",
            "text/plain": [
              "<Figure size 864x864 with 2 Axes>"
            ]
          },
          "metadata": {},
          "output_type": "display_data"
        }
      ],
      "source": [
        "fig, ax = plt.subplots(figsize=(12,12))         # Sample figsize in inches\n",
        "sns.heatmap(cm_d, annot=True, linewidths=3, ax=ax, xticklabels=label_d,yticklabels=label_d)"
      ]
    },
    {
      "cell_type": "markdown",
      "metadata": {
        "id": "Ha0WcA5sHYS8"
      },
      "source": [
        "M SOUND"
      ]
    },
    {
      "cell_type": "code",
      "execution_count": null,
      "metadata": {
        "id": "9D7jN655HZAz"
      },
      "outputs": [],
      "source": [
        "mtrain=pd.read_csv('/content/drive/MyDrive/Syllable_Annotated_Data/m_train.csv')\n",
        "mtest=pd.read_csv('/content/drive/MyDrive/Syllable_Annotated_Data/m_test.csv')"
      ]
    },
    {
      "cell_type": "code",
      "execution_count": null,
      "metadata": {
        "colab": {
          "base_uri": "https://localhost:8080/",
          "height": 317
        },
        "id": "W-w64m-6h85J",
        "outputId": "e9d9cefd-0218-4d8d-8ee4-e23ca7068487"
      },
      "outputs": [
        {
          "data": {
            "text/html": [
              "\n",
              "  <div id=\"df-ab17c13d-a697-4f9e-9d3a-85a0210426e5\">\n",
              "    <div class=\"colab-df-container\">\n",
              "      <div>\n",
              "<style scoped>\n",
              "    .dataframe tbody tr th:only-of-type {\n",
              "        vertical-align: middle;\n",
              "    }\n",
              "\n",
              "    .dataframe tbody tr th {\n",
              "        vertical-align: top;\n",
              "    }\n",
              "\n",
              "    .dataframe thead th {\n",
              "        text-align: right;\n",
              "    }\n",
              "</style>\n",
              "<table border=\"1\" class=\"dataframe\">\n",
              "  <thead>\n",
              "    <tr style=\"text-align: right;\">\n",
              "      <th></th>\n",
              "      <th>Unnamed: 0</th>\n",
              "      <th>999</th>\n",
              "      <th>0</th>\n",
              "      <th>1</th>\n",
              "      <th>2</th>\n",
              "      <th>3</th>\n",
              "      <th>4</th>\n",
              "      <th>5</th>\n",
              "      <th>6</th>\n",
              "      <th>7</th>\n",
              "      <th>...</th>\n",
              "      <th>30</th>\n",
              "      <th>31</th>\n",
              "      <th>32</th>\n",
              "      <th>33</th>\n",
              "      <th>34</th>\n",
              "      <th>35</th>\n",
              "      <th>36</th>\n",
              "      <th>37</th>\n",
              "      <th>38</th>\n",
              "      <th>39</th>\n",
              "    </tr>\n",
              "  </thead>\n",
              "  <tbody>\n",
              "    <tr>\n",
              "      <th>0</th>\n",
              "      <td>380736</td>\n",
              "      <td>380736.0</td>\n",
              "      <td>-223.465851</td>\n",
              "      <td>91.336426</td>\n",
              "      <td>-21.775742</td>\n",
              "      <td>-16.337748</td>\n",
              "      <td>1.662772</td>\n",
              "      <td>-15.675766</td>\n",
              "      <td>-23.382353</td>\n",
              "      <td>-17.305824</td>\n",
              "      <td>...</td>\n",
              "      <td>1.987244</td>\n",
              "      <td>0.846728</td>\n",
              "      <td>1.606012</td>\n",
              "      <td>0.801673</td>\n",
              "      <td>0.386483</td>\n",
              "      <td>0.237636</td>\n",
              "      <td>-0.359469</td>\n",
              "      <td>1.66861</td>\n",
              "      <td>0.548557</td>\n",
              "      <td>ma</td>\n",
              "    </tr>\n",
              "    <tr>\n",
              "      <th>1</th>\n",
              "      <td>380737</td>\n",
              "      <td>380737.0</td>\n",
              "      <td>-222.409500</td>\n",
              "      <td>87.625443</td>\n",
              "      <td>-28.039227</td>\n",
              "      <td>-17.349684</td>\n",
              "      <td>-4.240952</td>\n",
              "      <td>-19.918421</td>\n",
              "      <td>-27.052086</td>\n",
              "      <td>-20.187632</td>\n",
              "      <td>...</td>\n",
              "      <td>1.987244</td>\n",
              "      <td>0.846728</td>\n",
              "      <td>1.606012</td>\n",
              "      <td>0.801673</td>\n",
              "      <td>0.386483</td>\n",
              "      <td>0.237636</td>\n",
              "      <td>-0.359469</td>\n",
              "      <td>1.66861</td>\n",
              "      <td>0.548557</td>\n",
              "      <td>ma</td>\n",
              "    </tr>\n",
              "    <tr>\n",
              "      <th>2</th>\n",
              "      <td>380738</td>\n",
              "      <td>380738.0</td>\n",
              "      <td>-236.166199</td>\n",
              "      <td>69.362930</td>\n",
              "      <td>-43.011345</td>\n",
              "      <td>-29.891453</td>\n",
              "      <td>-17.073776</td>\n",
              "      <td>-26.680088</td>\n",
              "      <td>-35.636261</td>\n",
              "      <td>-33.499691</td>\n",
              "      <td>...</td>\n",
              "      <td>1.987244</td>\n",
              "      <td>0.846728</td>\n",
              "      <td>1.606012</td>\n",
              "      <td>0.801673</td>\n",
              "      <td>0.386483</td>\n",
              "      <td>0.237636</td>\n",
              "      <td>-0.359469</td>\n",
              "      <td>1.66861</td>\n",
              "      <td>0.548557</td>\n",
              "      <td>ma</td>\n",
              "    </tr>\n",
              "    <tr>\n",
              "      <th>3</th>\n",
              "      <td>380739</td>\n",
              "      <td>380739.0</td>\n",
              "      <td>-218.202667</td>\n",
              "      <td>85.874603</td>\n",
              "      <td>-38.307243</td>\n",
              "      <td>-29.593624</td>\n",
              "      <td>-24.348682</td>\n",
              "      <td>-29.441338</td>\n",
              "      <td>-43.632999</td>\n",
              "      <td>-30.374653</td>\n",
              "      <td>...</td>\n",
              "      <td>1.987244</td>\n",
              "      <td>0.846728</td>\n",
              "      <td>1.606012</td>\n",
              "      <td>0.801673</td>\n",
              "      <td>0.386483</td>\n",
              "      <td>0.237636</td>\n",
              "      <td>-0.359469</td>\n",
              "      <td>1.66861</td>\n",
              "      <td>0.548557</td>\n",
              "      <td>ma</td>\n",
              "    </tr>\n",
              "    <tr>\n",
              "      <th>4</th>\n",
              "      <td>380740</td>\n",
              "      <td>380740.0</td>\n",
              "      <td>-194.339813</td>\n",
              "      <td>97.422035</td>\n",
              "      <td>-36.911041</td>\n",
              "      <td>-29.295948</td>\n",
              "      <td>-27.948967</td>\n",
              "      <td>-27.087509</td>\n",
              "      <td>-44.600609</td>\n",
              "      <td>-21.798573</td>\n",
              "      <td>...</td>\n",
              "      <td>1.987244</td>\n",
              "      <td>0.846728</td>\n",
              "      <td>1.606012</td>\n",
              "      <td>0.801673</td>\n",
              "      <td>0.386483</td>\n",
              "      <td>0.237636</td>\n",
              "      <td>-0.359469</td>\n",
              "      <td>1.66861</td>\n",
              "      <td>0.548557</td>\n",
              "      <td>ma</td>\n",
              "    </tr>\n",
              "  </tbody>\n",
              "</table>\n",
              "<p>5 rows × 42 columns</p>\n",
              "</div>\n",
              "      <button class=\"colab-df-convert\" onclick=\"convertToInteractive('df-ab17c13d-a697-4f9e-9d3a-85a0210426e5')\"\n",
              "              title=\"Convert this dataframe to an interactive table.\"\n",
              "              style=\"display:none;\">\n",
              "        \n",
              "  <svg xmlns=\"http://www.w3.org/2000/svg\" height=\"24px\"viewBox=\"0 0 24 24\"\n",
              "       width=\"24px\">\n",
              "    <path d=\"M0 0h24v24H0V0z\" fill=\"none\"/>\n",
              "    <path d=\"M18.56 5.44l.94 2.06.94-2.06 2.06-.94-2.06-.94-.94-2.06-.94 2.06-2.06.94zm-11 1L8.5 8.5l.94-2.06 2.06-.94-2.06-.94L8.5 2.5l-.94 2.06-2.06.94zm10 10l.94 2.06.94-2.06 2.06-.94-2.06-.94-.94-2.06-.94 2.06-2.06.94z\"/><path d=\"M17.41 7.96l-1.37-1.37c-.4-.4-.92-.59-1.43-.59-.52 0-1.04.2-1.43.59L10.3 9.45l-7.72 7.72c-.78.78-.78 2.05 0 2.83L4 21.41c.39.39.9.59 1.41.59.51 0 1.02-.2 1.41-.59l7.78-7.78 2.81-2.81c.8-.78.8-2.07 0-2.86zM5.41 20L4 18.59l7.72-7.72 1.47 1.35L5.41 20z\"/>\n",
              "  </svg>\n",
              "      </button>\n",
              "      \n",
              "  <style>\n",
              "    .colab-df-container {\n",
              "      display:flex;\n",
              "      flex-wrap:wrap;\n",
              "      gap: 12px;\n",
              "    }\n",
              "\n",
              "    .colab-df-convert {\n",
              "      background-color: #E8F0FE;\n",
              "      border: none;\n",
              "      border-radius: 50%;\n",
              "      cursor: pointer;\n",
              "      display: none;\n",
              "      fill: #1967D2;\n",
              "      height: 32px;\n",
              "      padding: 0 0 0 0;\n",
              "      width: 32px;\n",
              "    }\n",
              "\n",
              "    .colab-df-convert:hover {\n",
              "      background-color: #E2EBFA;\n",
              "      box-shadow: 0px 1px 2px rgba(60, 64, 67, 0.3), 0px 1px 3px 1px rgba(60, 64, 67, 0.15);\n",
              "      fill: #174EA6;\n",
              "    }\n",
              "\n",
              "    [theme=dark] .colab-df-convert {\n",
              "      background-color: #3B4455;\n",
              "      fill: #D2E3FC;\n",
              "    }\n",
              "\n",
              "    [theme=dark] .colab-df-convert:hover {\n",
              "      background-color: #434B5C;\n",
              "      box-shadow: 0px 1px 3px 1px rgba(0, 0, 0, 0.15);\n",
              "      filter: drop-shadow(0px 1px 2px rgba(0, 0, 0, 0.3));\n",
              "      fill: #FFFFFF;\n",
              "    }\n",
              "  </style>\n",
              "\n",
              "      <script>\n",
              "        const buttonEl =\n",
              "          document.querySelector('#df-ab17c13d-a697-4f9e-9d3a-85a0210426e5 button.colab-df-convert');\n",
              "        buttonEl.style.display =\n",
              "          google.colab.kernel.accessAllowed ? 'block' : 'none';\n",
              "\n",
              "        async function convertToInteractive(key) {\n",
              "          const element = document.querySelector('#df-ab17c13d-a697-4f9e-9d3a-85a0210426e5');\n",
              "          const dataTable =\n",
              "            await google.colab.kernel.invokeFunction('convertToInteractive',\n",
              "                                                     [key], {});\n",
              "          if (!dataTable) return;\n",
              "\n",
              "          const docLinkHtml = 'Like what you see? Visit the ' +\n",
              "            '<a target=\"_blank\" href=https://colab.research.google.com/notebooks/data_table.ipynb>data table notebook</a>'\n",
              "            + ' to learn more about interactive tables.';\n",
              "          element.innerHTML = '';\n",
              "          dataTable['output_type'] = 'display_data';\n",
              "          await google.colab.output.renderOutput(dataTable, element);\n",
              "          const docLink = document.createElement('div');\n",
              "          docLink.innerHTML = docLinkHtml;\n",
              "          element.appendChild(docLink);\n",
              "        }\n",
              "      </script>\n",
              "    </div>\n",
              "  </div>\n",
              "  "
            ],
            "text/plain": [
              "   Unnamed: 0       999           0          1          2          3  \\\n",
              "0      380736  380736.0 -223.465851  91.336426 -21.775742 -16.337748   \n",
              "1      380737  380737.0 -222.409500  87.625443 -28.039227 -17.349684   \n",
              "2      380738  380738.0 -236.166199  69.362930 -43.011345 -29.891453   \n",
              "3      380739  380739.0 -218.202667  85.874603 -38.307243 -29.593624   \n",
              "4      380740  380740.0 -194.339813  97.422035 -36.911041 -29.295948   \n",
              "\n",
              "           4          5          6          7  ...        30        31  \\\n",
              "0   1.662772 -15.675766 -23.382353 -17.305824  ...  1.987244  0.846728   \n",
              "1  -4.240952 -19.918421 -27.052086 -20.187632  ...  1.987244  0.846728   \n",
              "2 -17.073776 -26.680088 -35.636261 -33.499691  ...  1.987244  0.846728   \n",
              "3 -24.348682 -29.441338 -43.632999 -30.374653  ...  1.987244  0.846728   \n",
              "4 -27.948967 -27.087509 -44.600609 -21.798573  ...  1.987244  0.846728   \n",
              "\n",
              "         32        33        34        35        36       37        38  39  \n",
              "0  1.606012  0.801673  0.386483  0.237636 -0.359469  1.66861  0.548557  ma  \n",
              "1  1.606012  0.801673  0.386483  0.237636 -0.359469  1.66861  0.548557  ma  \n",
              "2  1.606012  0.801673  0.386483  0.237636 -0.359469  1.66861  0.548557  ma  \n",
              "3  1.606012  0.801673  0.386483  0.237636 -0.359469  1.66861  0.548557  ma  \n",
              "4  1.606012  0.801673  0.386483  0.237636 -0.359469  1.66861  0.548557  ma  \n",
              "\n",
              "[5 rows x 42 columns]"
            ]
          },
          "execution_count": 32,
          "metadata": {},
          "output_type": "execute_result"
        }
      ],
      "source": [
        "mtrain.head()"
      ]
    },
    {
      "cell_type": "code",
      "execution_count": null,
      "metadata": {
        "id": "p8Iqw7y9HerT"
      },
      "outputs": [],
      "source": [
        "mtrain=mtrain.drop('Unnamed: 0',axis=1)\n",
        "mtrain=mtrain.drop('999',axis=1)\n",
        "X_m=mtrain.drop('39',axis=1)\n",
        "Y_m=mtrain['39']\n",
        "\n",
        "scaler=StandardScaler()\n",
        "X_m = scaler.fit_transform(X_m)\n",
        "X_m = pd.DataFrame(X_m)\n",
        "\n",
        "encoder=LabelEncoder()\n",
        "Y1_m = encoder.fit_transform(Y_m)\n",
        "Y2_m = pd.get_dummies(Y1_m).values"
      ]
    },
    {
      "cell_type": "code",
      "execution_count": null,
      "metadata": {
        "colab": {
          "base_uri": "https://localhost:8080/"
        },
        "id": "3f8xzXRGIPt0",
        "outputId": "958dc07a-894f-4240-db09-c89dc704b80e"
      },
      "outputs": [
        {
          "name": "stdout",
          "output_type": "stream",
          "text": [
            "Epoch 1/25\n",
            "102/102 [==============================] - ETA: 0s - loss: 1.0594 - accuracy: 0.6423\n",
            "Epoch 1: saving model to training_1/cp.ckpt\n",
            "102/102 [==============================] - 2s 20ms/step - loss: 1.0594 - accuracy: 0.6423 - val_loss: 3.3393 - val_accuracy: 0.3152\n",
            "Epoch 2/25\n",
            "102/102 [==============================] - ETA: 0s - loss: 0.5186 - accuracy: 0.8047\n",
            "Epoch 2: saving model to training_1/cp.ckpt\n",
            "102/102 [==============================] - 2s 15ms/step - loss: 0.5186 - accuracy: 0.8047 - val_loss: 3.7556 - val_accuracy: 0.3478\n",
            "Epoch 3/25\n",
            "102/102 [==============================] - ETA: 0s - loss: 0.3134 - accuracy: 0.8861\n",
            "Epoch 3: saving model to training_1/cp.ckpt\n",
            "102/102 [==============================] - 2s 16ms/step - loss: 0.3134 - accuracy: 0.8861 - val_loss: 4.4484 - val_accuracy: 0.3804\n",
            "Epoch 4/25\n",
            "102/102 [==============================] - ETA: 0s - loss: 0.1743 - accuracy: 0.9396\n",
            "Epoch 4: saving model to training_1/cp.ckpt\n",
            "102/102 [==============================] - 2s 17ms/step - loss: 0.1743 - accuracy: 0.9396 - val_loss: 4.9943 - val_accuracy: 0.4457\n",
            "Epoch 5/25\n",
            "101/102 [============================>.] - ETA: 0s - loss: 0.1016 - accuracy: 0.9670\n",
            "Epoch 5: saving model to training_1/cp.ckpt\n",
            "102/102 [==============================] - 2s 17ms/step - loss: 0.1018 - accuracy: 0.9668 - val_loss: 5.8993 - val_accuracy: 0.4457\n",
            "Epoch 6/25\n",
            "101/102 [============================>.] - ETA: 0s - loss: 0.0644 - accuracy: 0.9802\n",
            "Epoch 6: saving model to training_1/cp.ckpt\n",
            "102/102 [==============================] - 2s 15ms/step - loss: 0.0644 - accuracy: 0.9802 - val_loss: 6.7293 - val_accuracy: 0.4130\n",
            "Epoch 7/25\n",
            "102/102 [==============================] - ETA: 0s - loss: 0.0401 - accuracy: 0.9876\n",
            "Epoch 7: saving model to training_1/cp.ckpt\n",
            "102/102 [==============================] - 2s 15ms/step - loss: 0.0401 - accuracy: 0.9876 - val_loss: 8.3800 - val_accuracy: 0.4022\n",
            "Epoch 8/25\n",
            "102/102 [==============================] - ETA: 0s - loss: 0.0263 - accuracy: 0.9922\n",
            "Epoch 8: saving model to training_1/cp.ckpt\n",
            "102/102 [==============================] - 2s 16ms/step - loss: 0.0263 - accuracy: 0.9922 - val_loss: 8.0331 - val_accuracy: 0.4022\n",
            "Epoch 9/25\n",
            "102/102 [==============================] - ETA: 0s - loss: 0.0214 - accuracy: 0.9936\n",
            "Epoch 9: saving model to training_1/cp.ckpt\n",
            "102/102 [==============================] - 2s 15ms/step - loss: 0.0214 - accuracy: 0.9936 - val_loss: 8.0632 - val_accuracy: 0.4130\n",
            "Epoch 10/25\n",
            "101/102 [============================>.] - ETA: 0s - loss: 0.0134 - accuracy: 0.9959\n",
            "Epoch 10: saving model to training_1/cp.ckpt\n",
            "102/102 [==============================] - 2s 16ms/step - loss: 0.0135 - accuracy: 0.9959 - val_loss: 8.2768 - val_accuracy: 0.4239\n",
            "Epoch 11/25\n",
            "102/102 [==============================] - ETA: 0s - loss: 0.0143 - accuracy: 0.9949\n",
            "Epoch 11: saving model to training_1/cp.ckpt\n",
            "102/102 [==============================] - 2s 16ms/step - loss: 0.0143 - accuracy: 0.9949 - val_loss: 7.4376 - val_accuracy: 0.4239\n",
            "Epoch 12/25\n",
            " 98/102 [===========================>..] - ETA: 0s - loss: 0.0315 - accuracy: 0.9903\n",
            "Epoch 12: saving model to training_1/cp.ckpt\n",
            "102/102 [==============================] - 2s 15ms/step - loss: 0.0310 - accuracy: 0.9904 - val_loss: 8.2381 - val_accuracy: 0.3696\n",
            "Epoch 13/25\n",
            "102/102 [==============================] - ETA: 0s - loss: 0.0264 - accuracy: 0.9914\n",
            "Epoch 13: saving model to training_1/cp.ckpt\n",
            "102/102 [==============================] - 2s 16ms/step - loss: 0.0264 - accuracy: 0.9914 - val_loss: 8.7453 - val_accuracy: 0.3696\n",
            "Epoch 14/25\n",
            "102/102 [==============================] - ETA: 0s - loss: 0.0268 - accuracy: 0.9913\n",
            "Epoch 14: saving model to training_1/cp.ckpt\n",
            "102/102 [==============================] - 2s 16ms/step - loss: 0.0268 - accuracy: 0.9913 - val_loss: 7.0444 - val_accuracy: 0.4783\n",
            "Epoch 15/25\n",
            "101/102 [============================>.] - ETA: 0s - loss: 0.0251 - accuracy: 0.9912\n",
            "Epoch 15: saving model to training_1/cp.ckpt\n",
            "102/102 [==============================] - 2s 16ms/step - loss: 0.0253 - accuracy: 0.9912 - val_loss: 9.0614 - val_accuracy: 0.3478\n",
            "Epoch 16/25\n",
            "102/102 [==============================] - ETA: 0s - loss: 0.0203 - accuracy: 0.9929\n",
            "Epoch 16: saving model to training_1/cp.ckpt\n",
            "102/102 [==============================] - 2s 16ms/step - loss: 0.0203 - accuracy: 0.9929 - val_loss: 9.1313 - val_accuracy: 0.3587\n",
            "Epoch 17/25\n",
            "102/102 [==============================] - ETA: 0s - loss: 0.0155 - accuracy: 0.9943\n",
            "Epoch 17: saving model to training_1/cp.ckpt\n",
            "102/102 [==============================] - 2s 16ms/step - loss: 0.0155 - accuracy: 0.9943 - val_loss: 9.3660 - val_accuracy: 0.4674\n",
            "Epoch 18/25\n",
            "102/102 [==============================] - ETA: 0s - loss: 0.0128 - accuracy: 0.9952\n",
            "Epoch 18: saving model to training_1/cp.ckpt\n",
            "102/102 [==============================] - 2s 16ms/step - loss: 0.0128 - accuracy: 0.9952 - val_loss: 9.2866 - val_accuracy: 0.4130\n",
            "Epoch 19/25\n",
            "102/102 [==============================] - ETA: 0s - loss: 0.0171 - accuracy: 0.9937\n",
            "Epoch 19: saving model to training_1/cp.ckpt\n",
            "102/102 [==============================] - 2s 16ms/step - loss: 0.0171 - accuracy: 0.9937 - val_loss: 9.8365 - val_accuracy: 0.3587\n",
            "Epoch 20/25\n",
            "100/102 [============================>.] - ETA: 0s - loss: 0.0181 - accuracy: 0.9937\n",
            "Epoch 20: saving model to training_1/cp.ckpt\n",
            "102/102 [==============================] - 2s 16ms/step - loss: 0.0183 - accuracy: 0.9936 - val_loss: 10.4003 - val_accuracy: 0.3696\n",
            "Epoch 21/25\n",
            "102/102 [==============================] - ETA: 0s - loss: 0.0199 - accuracy: 0.9930\n",
            "Epoch 21: saving model to training_1/cp.ckpt\n",
            "102/102 [==============================] - 2s 15ms/step - loss: 0.0199 - accuracy: 0.9930 - val_loss: 11.7935 - val_accuracy: 0.3913\n",
            "Epoch 22/25\n",
            "102/102 [==============================] - ETA: 0s - loss: 0.0249 - accuracy: 0.9914\n",
            "Epoch 22: saving model to training_1/cp.ckpt\n",
            "102/102 [==============================] - 2s 16ms/step - loss: 0.0249 - accuracy: 0.9914 - val_loss: 9.6499 - val_accuracy: 0.3913\n",
            "Epoch 23/25\n",
            " 99/102 [============================>.] - ETA: 0s - loss: 0.0247 - accuracy: 0.9916\n",
            "Epoch 23: saving model to training_1/cp.ckpt\n",
            "102/102 [==============================] - 2s 16ms/step - loss: 0.0244 - accuracy: 0.9917 - val_loss: 8.9952 - val_accuracy: 0.3913\n",
            "Epoch 24/25\n",
            "102/102 [==============================] - ETA: 0s - loss: 0.0165 - accuracy: 0.9939\n",
            "Epoch 24: saving model to training_1/cp.ckpt\n",
            "102/102 [==============================] - 2s 15ms/step - loss: 0.0165 - accuracy: 0.9939 - val_loss: 9.1781 - val_accuracy: 0.4239\n",
            "Epoch 25/25\n",
            "102/102 [==============================] - ETA: 0s - loss: 0.0138 - accuracy: 0.9947\n",
            "Epoch 25: saving model to training_1/cp.ckpt\n",
            "102/102 [==============================] - 2s 16ms/step - loss: 0.0138 - accuracy: 0.9947 - val_loss: 9.6980 - val_accuracy: 0.3913\n"
          ]
        },
        {
          "data": {
            "text/plain": [
              "<keras.callbacks.History at 0x7feba460b490>"
            ]
          },
          "execution_count": 42,
          "metadata": {},
          "output_type": "execute_result"
        }
      ],
      "source": [
        "model.fit(X_m, Y2_m, batch_size=900,validation_split=0.001, epochs=25,callbacks=[cp_callback])"
      ]
    },
    {
      "cell_type": "code",
      "execution_count": null,
      "metadata": {
        "id": "dwI4NcoiIR6i"
      },
      "outputs": [],
      "source": [
        "mtest=mtest.drop('Unnamed: 0',axis=1)\n",
        "mtest=mtest.drop('999',axis=1)\n",
        "X_test_m=mtest.drop('39',axis=1)\n",
        "Y_test_m=mtest['39']\n",
        "\n",
        "\n",
        "X_test_m = scaler.fit_transform(X_test_m)\n",
        "X_test_m = pd.DataFrame(X_test_m)\n",
        "\n",
        "Y_test1_m = encoder.fit_transform(Y_test_m)\n",
        "Y_test2_m = pd.get_dummies(Y_test1_m).values"
      ]
    },
    {
      "cell_type": "code",
      "execution_count": null,
      "metadata": {
        "colab": {
          "base_uri": "https://localhost:8080/"
        },
        "id": "pAmabjuQIR3D",
        "outputId": "36460997-5f4b-4757-d032-de4983d2b328"
      },
      "outputs": [
        {
          "name": "stdout",
          "output_type": "stream",
          "text": [
            "Test loss: 3.391866445541382\n",
            "Test accuracy: 0.683766782283783\n"
          ]
        }
      ],
      "source": [
        "loss, accuracy = model.evaluate(X_test_m, Y_test2_m, verbose=0)\n",
        "print('Test loss:', loss)\n",
        "print('Test accuracy:', accuracy)"
      ]
    },
    {
      "cell_type": "code",
      "execution_count": null,
      "metadata": {
        "colab": {
          "base_uri": "https://localhost:8080/"
        },
        "id": "c4NKOWTFk8Ty",
        "outputId": "e3dc9056-beff-48b9-d19d-a9a30895fc50"
      },
      "outputs": [
        {
          "name": "stdout",
          "output_type": "stream",
          "text": [
            "745/745 [==============================] - 2s 2ms/step\n",
            "[[1646  609   22   55   23   16   48   20   21   36]\n",
            " [ 229 1753   47   79   13   24   25   27   23   20]\n",
            " [  57   81 1980   33  203  135   13   23   26   41]\n",
            " [  63  119   21 1652   39   11  170   76   42  143]\n",
            " [  34   44   88   22 1846  252   51   50   71  102]\n",
            " [  14   48   39   26  198 1759   12  108   43  153]\n",
            " [  45   88   16  116   31   17 1719  167  118  147]\n",
            " [  50  123   28  127   24   20  850  620   74  132]\n",
            " [  32   45   35   72   22   39  122  138 1504  487]\n",
            " [  13   49   14   72   37   40   99  243  114 1527]]\n"
          ]
        }
      ],
      "source": [
        "#this is for 100 batch size\n",
        "pred=model.predict(X_test_m)\n",
        "pred=np.argmax(pred, axis=1)\n",
        "Y_test2_m=np.argmax(Y_test2_m, axis=1)\n",
        "cm_m = confusion_matrix(Y_test2_m, pred)\n",
        "print(cm_m)"
      ]
    },
    {
      "cell_type": "code",
      "execution_count": null,
      "metadata": {
        "id": "xDy4ywD4hUqI"
      },
      "outputs": [],
      "source": [
        "label_m=['ma','maa','mai','mau','mi','mii','mo','moo','mu','muu']"
      ]
    },
    {
      "cell_type": "code",
      "execution_count": null,
      "metadata": {
        "colab": {
          "base_uri": "https://localhost:8080/",
          "height": 718
        },
        "id": "9eYlKWhxhUmw",
        "outputId": "d536ba04-4bdc-466c-abc7-6371ee896a34"
      },
      "outputs": [
        {
          "data": {
            "text/plain": [
              "<matplotlib.axes._subplots.AxesSubplot at 0x7fc8a663b950>"
            ]
          },
          "execution_count": 50,
          "metadata": {},
          "output_type": "execute_result"
        },
        {
          "data": {
            "image/png": "[encoded data removed]",
            "text/plain": [
              "<Figure size 864x864 with 2 Axes>"
            ]
          },
          "metadata": {},
          "output_type": "display_data"
        }
      ],
      "source": [
        "fig, ax = plt.subplots(figsize=(12,12))         # Sample figsize in inches\n",
        "sns.heatmap(cm_m, annot=True, linewidths=3, ax=ax, xticklabels=label_m,yticklabels=label_m)"
      ]
    },
    {
      "cell_type": "markdown",
      "metadata": {
        "id": "9SKez1uYUH9c"
      },
      "source": [
        "**Testing for each speaker for all 40 syllables**"
      ]
    },
    {
      "cell_type": "code",
      "execution_count": null,
      "metadata": {
        "id": "cCOhi3P6h_vL"
      },
      "outputs": [],
      "source": [
        "model_40 = Sequential()\n",
        "model_40.add(Dense(200, input_dim=39, activation='relu'))\n",
        "model_40.add(Dense(2500,activation='relu'))\n",
        "model_40.add(Dense(2500,activation='relu'))\n",
        "#model_40.add(Dense(1500,activation='relu'))\n",
        "model_40.add(Dense(40, activation='softmax'))\n",
        "model_40.compile(loss = 'categorical_crossentropy', optimizer = 'adam', metrics = ['accuracy'])\n"
      ]
    },
    {
      "cell_type": "code",
      "execution_count": null,
      "metadata": {
        "colab": {
          "base_uri": "https://localhost:8080/"
        },
        "id": "ZYEsoX6WlOuP",
        "outputId": "17b95cb2-6da2-4d55-a1f2-ac16a631530c"
      },
      "outputs": [
        {
          "name": "stdout",
          "output_type": "stream",
          "text": [
            "Model: \"sequential_3\"\n",
            "_________________________________________________________________\n",
            " Layer (type)                Output Shape              Param #   \n",
            "=================================================================\n",
            " dense_15 (Dense)            (None, 1500)              60000     \n",
            "                                                                 \n",
            " dense_16 (Dense)            (None, 1500)              2251500   \n",
            "                                                                 \n",
            " dense_17 (Dense)            (None, 1500)              2251500   \n",
            "                                                                 \n",
            " dense_18 (Dense)            (None, 1500)              2251500   \n",
            "                                                                 \n",
            " dense_19 (Dense)            (None, 40)                60040     \n",
            "                                                                 \n",
            "=================================================================\n",
            "Total params: 6,874,540\n",
            "Trainable params: 6,874,540\n",
            "Non-trainable params: 0\n",
            "_________________________________________________________________\n",
            "None\n"
          ]
        }
      ],
      "source": [
        "print(model_40.summary())"
      ]
    },
    {
      "cell_type": "code",
      "execution_count": null,
      "metadata": {
        "id": "rnQzMqM3mG5N"
      },
      "outputs": [],
      "source": [
        "train=pd.read_csv('/content/drive/MyDrive/Syllable_Annotated_Data/Syllable_MFCC_train(1).csv')\n",
        "test=pd.read_csv('/content/drive/MyDrive/Syllable_Annotated_Data/Syllable_MFCC_test(1).csv')\n"
      ]
    },
    {
      "cell_type": "code",
      "execution_count": null,
      "metadata": {
        "id": "5Vcj4A6TlOq2"
      },
      "outputs": [],
      "source": [
        "train=train.drop('Unnamed: 0',axis=1)\n",
        "X_40=train.drop('39',axis=1)\n",
        "Y_40=train['39']\n",
        "\n",
        "scaler=StandardScaler()\n",
        "X_40 = scaler.fit_transform(X_40)\n",
        "X_40 = pd.DataFrame(X_40)\n",
        "\n",
        "encoder=LabelEncoder()\n",
        "Y1_40 = encoder.fit_transform(Y_40)\n",
        "Y2_40 = pd.get_dummies(Y1_40).values"
      ]
    },
    {
      "cell_type": "code",
      "execution_count": null,
      "metadata": {
        "colab": {
          "base_uri": "https://localhost:8080/"
        },
        "id": "ZO-JTCcsnsaP",
        "outputId": "1a582483-09de-4971-c539-52c7e0172c11"
      },
      "outputs": [
        {
          "data": {
            "text/plain": [
              "472480"
            ]
          },
          "execution_count": 26,
          "metadata": {},
          "output_type": "execute_result"
        }
      ],
      "source": [
        "len(Y2_40)"
      ]
    },
    {
      "cell_type": "code",
      "execution_count": null,
      "metadata": {
        "colab": {
          "background_save": true,
          "base_uri": "https://localhost:8080/"
        },
        "id": "v-p2OTM4lOpB",
        "outputId": "6567f297-51fe-4985-b95b-795cd09165e4"
      },
      "outputs": [
        {
          "name": "stdout",
          "output_type": "stream",
          "text": [
            "Epoch 1/50\n",
            "4721/4721 [==============================] - 21s 4ms/step - loss: 1.4214 - accuracy: 0.6164 - val_loss: 1.7940 - val_accuracy: 0.5909\n",
            "Epoch 2/50\n",
            "4721/4721 [==============================] - 21s 4ms/step - loss: 1.2584 - accuracy: 0.6638 - val_loss: 1.6206 - val_accuracy: 0.6874\n",
            "Epoch 3/50\n",
            "4721/4721 [==============================] - 21s 4ms/step - loss: 1.1679 - accuracy: 0.6898 - val_loss: 1.5367 - val_accuracy: 0.7439\n",
            "Epoch 4/50\n",
            "4721/4721 [==============================] - 21s 4ms/step - loss: 1.1153 - accuracy: 0.7053 - val_loss: 1.5829 - val_accuracy: 0.7575\n",
            "Epoch 5/50\n",
            "4721/4721 [==============================] - 21s 4ms/step - loss: 1.0817 - accuracy: 0.7154 - val_loss: 1.7340 - val_accuracy: 0.7479\n",
            "Epoch 6/50\n",
            "4721/4721 [==============================] - 21s 4ms/step - loss: 1.0588 - accuracy: 0.7226 - val_loss: 1.7691 - val_accuracy: 0.7727\n",
            "Epoch 7/50\n",
            "4721/4721 [==============================] - 21s 4ms/step - loss: 1.0424 - accuracy: 0.7279 - val_loss: 2.1001 - val_accuracy: 0.7465\n",
            "Epoch 8/50\n",
            "4721/4721 [==============================] - 21s 5ms/step - loss: 1.0280 - accuracy: 0.7325 - val_loss: 2.0309 - val_accuracy: 0.7685\n",
            "Epoch 9/50\n",
            "4721/4721 [==============================] - 21s 4ms/step - loss: 1.0216 - accuracy: 0.7347 - val_loss: 1.9817 - val_accuracy: 0.7621\n",
            "Epoch 10/50\n",
            "4721/4721 [==============================] - 21s 5ms/step - loss: 1.0137 - accuracy: 0.7376 - val_loss: 2.1482 - val_accuracy: 0.7746\n",
            "Epoch 11/50\n",
            "4721/4721 [==============================] - 20s 4ms/step - loss: 1.0085 - accuracy: 0.7400 - val_loss: 2.2325 - val_accuracy: 0.7706\n",
            "Epoch 12/50\n",
            "4721/4721 [==============================] - 20s 4ms/step - loss: 1.0061 - accuracy: 0.7411 - val_loss: 2.1488 - val_accuracy: 0.7761\n",
            "Epoch 13/50\n",
            "4721/4721 [==============================] - 21s 4ms/step - loss: 1.0023 - accuracy: 0.7431 - val_loss: 2.1247 - val_accuracy: 0.7784\n",
            "Epoch 14/50\n",
            "4721/4721 [==============================] - 21s 4ms/step - loss: 1.0039 - accuracy: 0.7433 - val_loss: 2.5719 - val_accuracy: 0.7782\n",
            "Epoch 15/50\n",
            "4721/4721 [==============================] - 21s 4ms/step - loss: 0.9991 - accuracy: 0.7455 - val_loss: 2.3800 - val_accuracy: 0.7869\n",
            "Epoch 16/50\n",
            "4721/4721 [==============================] - 21s 4ms/step - loss: 0.9999 - accuracy: 0.7456 - val_loss: 2.6295 - val_accuracy: 0.7824\n",
            "Epoch 17/50\n",
            "4721/4721 [==============================] - 21s 4ms/step - loss: 0.9963 - accuracy: 0.7469 - val_loss: 2.6325 - val_accuracy: 0.7856\n",
            "Epoch 18/50\n",
            "4721/4721 [==============================] - 22s 5ms/step - loss: 1.0002 - accuracy: 0.7472 - val_loss: 2.9486 - val_accuracy: 0.7744\n",
            "Epoch 19/50\n",
            "4721/4721 [==============================] - 21s 4ms/step - loss: 0.9948 - accuracy: 0.7484 - val_loss: 2.9567 - val_accuracy: 0.7786\n",
            "Epoch 20/50\n",
            "4721/4721 [==============================] - 22s 5ms/step - loss: 0.9987 - accuracy: 0.7487 - val_loss: 3.0626 - val_accuracy: 0.7846\n",
            "Epoch 21/50\n",
            "4721/4721 [==============================] - 21s 4ms/step - loss: 0.9982 - accuracy: 0.7499 - val_loss: 3.3142 - val_accuracy: 0.7765\n",
            "Epoch 22/50\n",
            "4721/4721 [==============================] - 21s 4ms/step - loss: 1.0011 - accuracy: 0.7496 - val_loss: 2.8107 - val_accuracy: 0.7805\n",
            "Epoch 23/50\n",
            "4721/4721 [==============================] - 21s 4ms/step - loss: 1.0001 - accuracy: 0.7505 - val_loss: 3.2126 - val_accuracy: 0.7881\n",
            "Epoch 24/50\n",
            "4721/4721 [==============================] - 21s 4ms/step - loss: 0.9980 - accuracy: 0.7513 - val_loss: 3.1615 - val_accuracy: 0.7888\n",
            "Epoch 25/50\n",
            "4721/4721 [==============================] - 21s 4ms/step - loss: 1.0000 - accuracy: 0.7516 - val_loss: 3.9448 - val_accuracy: 0.7873\n",
            "Epoch 26/50\n",
            "4721/4721 [==============================] - 21s 4ms/step - loss: 1.0003 - accuracy: 0.7521 - val_loss: 3.5181 - val_accuracy: 0.7867\n",
            "Epoch 27/50\n",
            "4721/4721 [==============================] - 21s 5ms/step - loss: 1.0016 - accuracy: 0.7527 - val_loss: 3.8368 - val_accuracy: 0.7877\n",
            "Epoch 28/50\n",
            "4721/4721 [==============================] - 21s 5ms/step - loss: 1.0059 - accuracy: 0.7528 - val_loss: 4.1519 - val_accuracy: 0.7850\n",
            "Epoch 29/50\n",
            "4721/4721 [==============================] - 21s 4ms/step - loss: 1.0049 - accuracy: 0.7531 - val_loss: 4.0050 - val_accuracy: 0.7835\n",
            "Epoch 30/50\n",
            "4721/4721 [==============================] - 21s 4ms/step - loss: 1.0053 - accuracy: 0.7538 - val_loss: 4.2767 - val_accuracy: 0.7818\n",
            "Epoch 31/50\n",
            "4721/4721 [==============================] - 21s 4ms/step - loss: 1.0067 - accuracy: 0.7542 - val_loss: 4.5585 - val_accuracy: 0.7926\n",
            "Epoch 32/50\n",
            "4721/4721 [==============================] - 21s 4ms/step - loss: 1.0062 - accuracy: 0.7546 - val_loss: 4.7271 - val_accuracy: 0.7852\n",
            "Epoch 33/50\n",
            "4721/4721 [==============================] - 20s 4ms/step - loss: 1.0090 - accuracy: 0.7547 - val_loss: 4.0665 - val_accuracy: 0.7869\n",
            "Epoch 34/50\n",
            "4721/4721 [==============================] - 20s 4ms/step - loss: 1.0151 - accuracy: 0.7548 - val_loss: 4.4326 - val_accuracy: 0.7873\n",
            "Epoch 35/50\n",
            "4721/4721 [==============================] - 21s 4ms/step - loss: 1.0124 - accuracy: 0.7555 - val_loss: 4.7300 - val_accuracy: 0.7917\n",
            "Epoch 36/50\n",
            "4721/4721 [==============================] - 20s 4ms/step - loss: 1.0116 - accuracy: 0.7557 - val_loss: 4.7335 - val_accuracy: 0.7934\n",
            "Epoch 37/50\n",
            "4721/4721 [==============================] - 21s 4ms/step - loss: 1.0186 - accuracy: 0.7556 - val_loss: 5.6280 - val_accuracy: 0.7721\n",
            "Epoch 38/50\n",
            "4721/4721 [==============================] - 20s 4ms/step - loss: 1.0176 - accuracy: 0.7562 - val_loss: 5.4374 - val_accuracy: 0.7786\n",
            "Epoch 39/50\n",
            "4721/4721 [==============================] - 20s 4ms/step - loss: 1.0161 - accuracy: 0.7564 - val_loss: 5.0137 - val_accuracy: 0.7917\n",
            "Epoch 40/50\n",
            "4721/4721 [==============================] - 21s 4ms/step - loss: 1.0159 - accuracy: 0.7570 - val_loss: 5.5678 - val_accuracy: 0.7829\n",
            "Epoch 41/50\n",
            "4721/4721 [==============================] - 21s 4ms/step - loss: 1.0209 - accuracy: 0.7573 - val_loss: 4.7931 - val_accuracy: 0.8008\n",
            "Epoch 42/50\n",
            "4721/4721 [==============================] - 21s 4ms/step - loss: 1.0267 - accuracy: 0.7572 - val_loss: 5.2892 - val_accuracy: 0.7810\n",
            "Epoch 43/50\n",
            "4721/4721 [==============================] - 21s 4ms/step - loss: 1.0297 - accuracy: 0.7574 - val_loss: 5.6964 - val_accuracy: 0.7892\n",
            "Epoch 44/50\n",
            "4721/4721 [==============================] - 21s 4ms/step - loss: 1.0273 - accuracy: 0.7578 - val_loss: 6.3694 - val_accuracy: 0.7930\n",
            "Epoch 45/50\n",
            "4721/4721 [==============================] - 21s 4ms/step - loss: 1.0304 - accuracy: 0.7580 - val_loss: 5.9525 - val_accuracy: 0.7909\n",
            "Epoch 46/50\n",
            "4721/4721 [==============================] - 21s 4ms/step - loss: 1.0291 - accuracy: 0.7586 - val_loss: 5.7821 - val_accuracy: 0.7932\n",
            "Epoch 47/50\n",
            "4721/4721 [==============================] - 20s 4ms/step - loss: 1.0336 - accuracy: 0.7582 - val_loss: 6.5867 - val_accuracy: 0.7886\n",
            "Epoch 48/50\n",
            "4721/4721 [==============================] - 20s 4ms/step - loss: 1.0374 - accuracy: 0.7587 - val_loss: 6.5469 - val_accuracy: 0.7928\n",
            "Epoch 49/50\n",
            "4721/4721 [==============================] - 20s 4ms/step - loss: 1.0419 - accuracy: 0.7590 - val_loss: 7.5711 - val_accuracy: 0.7850\n",
            "Epoch 50/50\n",
            "4721/4721 [==============================] - 20s 4ms/step - loss: 1.0405 - accuracy: 0.7594 - val_loss: 7.1494 - val_accuracy: 0.7917\n"
          ]
        },
        {
          "data": {
            "text/plain": [
              "<keras.callbacks.History at 0x7f3ce9abce90>"
            ]
          },
          "execution_count": 39,
          "metadata": {},
          "output_type": "execute_result"
        }
      ],
      "source": [
        "model_40.fit(X_40,Y2_40,batch_size=100,validation_split=0.001, epochs=50)"
      ]
    },
    {
      "cell_type": "code",
      "execution_count": null,
      "metadata": {
        "id": "mRLHmFHFmBR1"
      },
      "outputs": [],
      "source": [
        "test=test.drop('Unnamed: 0',axis=1)\n",
        "#test=mtest.drop('999',axis=1)\n",
        "X_test_40=test.drop('39',axis=1)\n",
        "Y_test_40=test['39']\n",
        "\n",
        "\n",
        "X_test_40 = scaler.fit_transform(X_test_40)\n",
        "X_test_40 = pd.DataFrame(X_test_40)\n",
        "\n",
        "Y_test1_40 = encoder.fit_transform(Y_test_40)\n",
        "Y_test2_40 = pd.get_dummies(Y_test1_40).values"
      ]
    },
    {
      "cell_type": "code",
      "execution_count": null,
      "metadata": {
        "colab": {
          "base_uri": "https://localhost:8080/"
        },
        "id": "0lj3kjH4oll7",
        "outputId": "ca2e7299-3e66-497e-aea0-6d57710ca86a"
      },
      "outputs": [
        {
          "name": "stdout",
          "output_type": "stream",
          "text": [
            "Test loss: 7.2287445068359375\n",
            "Test accuracy: 0.22373881936073303\n"
          ]
        }
      ],
      "source": [
        "loss,accuracy=model_40.evaluate(X_test_40,Y_test2_40,verbose=0)\n",
        "print(\"Test loss:\",loss)\n",
        "print(\"Test accuracy:\",accuracy)"
      ]
    },
    {
      "cell_type": "code",
      "source": [],
      "metadata": {
        "id": "AWjbeFIR4xcY"
      },
      "execution_count": null,
      "outputs": []
    }
  ],
  "metadata": {
    "accelerator": "GPU",
    "colab": {
      "provenance": []
    },
    "gpuClass": "standard",
    "kernelspec": {
      "display_name": "Python 3",
      "name": "python3"
    },
    "language_info": {
      "name": "python"
    }
  },
  "nbformat": 4,
  "nbformat_minor": 0
}